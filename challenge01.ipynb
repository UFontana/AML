{
 "cells": [
  {
   "cell_type": "code",
   "execution_count": 1,
   "id": "16f28c1d",
   "metadata": {
    "execution": {
     "iopub.execute_input": "2023-05-17T11:35:33.532322Z",
     "iopub.status.busy": "2023-05-17T11:35:33.531526Z",
     "iopub.status.idle": "2023-05-17T11:35:42.895731Z",
     "shell.execute_reply": "2023-05-17T11:35:42.894687Z"
    },
    "papermill": {
     "duration": 9.378589,
     "end_time": "2023-05-17T11:35:42.898195",
     "exception": false,
     "start_time": "2023-05-17T11:35:33.519606",
     "status": "completed"
    },
    "tags": []
   },
   "outputs": [
    {
     "name": "stderr",
     "output_type": "stream",
     "text": [
      "/opt/conda/lib/python3.10/site-packages/scipy/__init__.py:146: UserWarning: A NumPy version >=1.16.5 and <1.23.0 is required for this version of SciPy (detected version 1.23.5\n",
      "  warnings.warn(f\"A NumPy version >={np_minversion} and <{np_maxversion}\"\n"
     ]
    }
   ],
   "source": [
    "import torch\n",
    "from torch.utils.data import Dataset, DataLoader\n",
    "from torch import nn\n",
    "import torch.nn.functional as F\n",
    "from torch.nn import Parameter\n",
    "from torch.nn import Module\n",
    "from torch.optim import lr_scheduler\n",
    "\n",
    "import torchvision\n",
    "import torchvision.transforms as transforms\n",
    "from torchvision.io import read_image\n",
    "from torchvision.models import resnet50, ResNet50_Weights\n",
    "\n",
    "from sklearn.model_selection import train_test_split\n",
    "from sklearn.metrics import roc_auc_score\n",
    "from sklearn.metrics import confusion_matrix\n",
    "from skimage import io\n",
    "\n",
    "import math\n",
    "import numpy as np\n",
    "import pandas as pd\n",
    "from PIL import Image\n",
    "import os\n",
    "import matplotlib.pyplot as plt\n",
    "import seaborn as sns\n",
    "from scipy import stats\n",
    "from tqdm import tqdm\n",
    "from mpl_toolkits.axes_grid1 import ImageGrid"
   ]
  },
  {
   "cell_type": "code",
   "execution_count": 2,
   "id": "ccb92e65",
   "metadata": {
    "execution": {
     "iopub.execute_input": "2023-05-17T11:35:42.916176Z",
     "iopub.status.busy": "2023-05-17T11:35:42.915716Z",
     "iopub.status.idle": "2023-05-17T11:35:42.922802Z",
     "shell.execute_reply": "2023-05-17T11:35:42.921911Z"
    },
    "papermill": {
     "duration": 0.018029,
     "end_time": "2023-05-17T11:35:42.925086",
     "exception": false,
     "start_time": "2023-05-17T11:35:42.907057",
     "status": "completed"
    },
    "tags": []
   },
   "outputs": [],
   "source": [
    "\"\"\"\n",
    "    This is the parameters dictionary. Choose the configuration of the run for the notebook:\n",
    "        - model : select one between the options\n",
    "                  ResNet | AlexNet | BAlexNet | DNet | BDNet | ConvNext | BConvNext\n",
    "        - val : set to True if you want to start the validation process; splits the training data\n",
    "                in train and val set and evaluate the performance of the model. For the submission of\n",
    "                the notebook, set val to False.\n",
    "        - batch_size : the size of the batch\n",
    "        - n_epochs : number of epochs for the training\n",
    "        - num_channels : number of inputs channels (default = 3)\n",
    "        - classes : number of classes (default = 2)\n",
    "\"\"\"\n",
    "\n",
    "par = {\n",
    "    'model' : \"BConvNext\",\n",
    "    'expID' : 0,\n",
    "    'num_ens' : 5,\n",
    "    'batch_size' : 32,\n",
    "    'n_epochs' : 20,\n",
    "    'num_channels' : 3,\n",
    "    'classes' : 2\n",
    "}"
   ]
  },
  {
   "cell_type": "code",
   "execution_count": 3,
   "id": "0a7afa20",
   "metadata": {
    "execution": {
     "iopub.execute_input": "2023-05-17T11:35:42.942553Z",
     "iopub.status.busy": "2023-05-17T11:35:42.942216Z",
     "iopub.status.idle": "2023-05-17T11:35:42.959888Z",
     "shell.execute_reply": "2023-05-17T11:35:42.958763Z"
    },
    "papermill": {
     "duration": 0.029226,
     "end_time": "2023-05-17T11:35:42.962214",
     "exception": false,
     "start_time": "2023-05-17T11:35:42.932988",
     "status": "completed"
    },
    "tags": []
   },
   "outputs": [],
   "source": [
    "def imshow(axis, inp):\n",
    "    \"\"\"Denormalize and show\"\"\"\n",
    "    inp = inp.numpy().transpose((1, 2, 0))\n",
    "    mean = np.array([0.50359046, 0.45194104, 0.46817818])\n",
    "    std = np.array([0.15118405, 0.13978378, 0.15320341])\n",
    "    inp = std * inp + mean\n",
    "    axis.imshow(inp)\n",
    "    \n",
    "def plot_prior_posterior(net, epoch, iteration):\n",
    "        \n",
    "        loc = net.linear.W_mu[0][0].item()\n",
    "        scale = net.linear.W_sigma[0][0].item()\n",
    "        x = np.arange(0, 0.1, 0.0001)\n",
    "        y = stats.norm.pdf(x, loc, scale)\n",
    "        fig, _ = plt.subplots(figsize=(10, 8))\n",
    "        \n",
    "        distribution = np.random.normal(loc, scale, 1000)\n",
    "        sns.histplot(distribution, bins=80, alpha=0.5, label='Weight Distribution', kde=True)\n",
    "        plt.ylabel('Weights')\n",
    "        plt.title('Prior distribution')\n",
    "        plt.show()\n",
    "\n",
    "def plot_loss(losses, epoch):\n",
    "        fig, _ = plt.subplots(figsize=(10, 8))\n",
    "\n",
    "        plt.plot(losses, color='blue', linewidth=2)\n",
    "        plt.xlabel('Iteration')\n",
    "        plt.ylabel('ELBO loss')\n",
    "        plt.title('Losses during training')\n",
    "        plt.show()\n",
    "\n",
    "def plot_confusion_matrix(y_true, y_pred):\n",
    "        # constant for classes\n",
    "        classes = ('no', 'yes')\n",
    "\n",
    "        # Build confusion matrix\n",
    "        cf_matrix = confusion_matrix(y_true, y_pred)\n",
    "\n",
    "        df_cm = pd.DataFrame(cf_matrix / np.sum(cf_matrix, axis=1)[:, None], index = [i for i in classes],\n",
    "                            columns = [i for i in classes])\n",
    "        \n",
    "        fig, _ = plt.subplots(figsize = (10, 8))\n",
    "\n",
    "        sns.heatmap(df_cm, annot=True)\n",
    "        \n",
    "        plt.show()\n",
    "        \n",
    "def logmeanexp(x, dim=None, keepdim=False):\n",
    "    \"\"\"Stable computation of log(mean(exp(x))\"\"\"\n",
    "\n",
    "    if dim is None:\n",
    "        x, dim = x.view(-1), 0\n",
    "    x_max, _ = torch.max(x, dim, keepdim=True)\n",
    "    x = x_max + torch.log(torch.mean(torch.exp(x - x_max), dim, keepdim=True))\n",
    "    return x if keepdim else x.squeeze(dim)"
   ]
  },
  {
   "cell_type": "markdown",
   "id": "547eb2bf",
   "metadata": {
    "papermill": {
     "duration": 0.00799,
     "end_time": "2023-05-17T11:35:42.978520",
     "exception": false,
     "start_time": "2023-05-17T11:35:42.970530",
     "status": "completed"
    },
    "tags": []
   },
   "source": [
    "# Dataset"
   ]
  },
  {
   "cell_type": "code",
   "execution_count": 4,
   "id": "e7009dbe",
   "metadata": {
    "execution": {
     "iopub.execute_input": "2023-05-17T11:35:42.995651Z",
     "iopub.status.busy": "2023-05-17T11:35:42.995374Z",
     "iopub.status.idle": "2023-05-17T11:35:43.003341Z",
     "shell.execute_reply": "2023-05-17T11:35:43.002359Z"
    },
    "papermill": {
     "duration": 0.018849,
     "end_time": "2023-05-17T11:35:43.005451",
     "exception": false,
     "start_time": "2023-05-17T11:35:42.986602",
     "status": "completed"
    },
    "tags": []
   },
   "outputs": [],
   "source": [
    "class CactusDataset(Dataset):\n",
    "\n",
    "    def __init__(self, dataframe, img_dir, labels=None, transform=None):\n",
    "        self.dataframe = dataframe\n",
    "        self.labels = labels\n",
    "        self.img_dir = img_dir\n",
    "        self.transform = transform\n",
    "\n",
    "    def __len__(self):\n",
    "        return len(self.dataframe)\n",
    "\n",
    "    def __getitem__(self, idx):\n",
    "\n",
    "        img_id=self.dataframe.iloc[idx].values[0]\n",
    "        img_path = os.path.join(self.img_dir, img_id)\n",
    "\n",
    "        image = Image.open(img_path).convert(\"RGB\")\n",
    "         \n",
    "\n",
    "        if self.transform is not None:\n",
    "            image = self.transform(image)\n",
    "\n",
    "        if self.labels is not None:\n",
    "            label = torch.tensor(float(self.labels.iloc[idx])) \n",
    "            label = label.type(torch.LongTensor)\n",
    "            return (image, label)\n",
    "        \n",
    "        return image"
   ]
  },
  {
   "cell_type": "code",
   "execution_count": 5,
   "id": "6bcff0d0",
   "metadata": {
    "execution": {
     "iopub.execute_input": "2023-05-17T11:35:43.022251Z",
     "iopub.status.busy": "2023-05-17T11:35:43.021966Z",
     "iopub.status.idle": "2023-05-17T11:35:43.030233Z",
     "shell.execute_reply": "2023-05-17T11:35:43.029357Z"
    },
    "papermill": {
     "duration": 0.01942,
     "end_time": "2023-05-17T11:35:43.032680",
     "exception": false,
     "start_time": "2023-05-17T11:35:43.013260",
     "status": "completed"
    },
    "tags": []
   },
   "outputs": [
    {
     "data": {
      "text/plain": [
       "'\\nimport os\\nimport numpy as np\\nfrom PIL import Image\\n\\nfolder_path = \"/kaggle/input/eurecom-aml-2023-optional-challenge-1/train/train/\"  # cartella contenente le immagini\\nred_pixels = []  # lista di pixel rossi\\ngreen_pixels = []  # lista di pixel rossi\\nblue_pixels = []  # lista di pixel rossi\\n\\nfor filename in os.listdir(folder_path):\\n    if filename.endswith(\".jpg\") or filename.endswith(\".png\"):  # considera solo file di immagine\\n        img_path = os.path.join(folder_path, filename)\\n        img = Image.open(img_path)  # carica l\\'immagine\\n        img = img.resize((32, 32))  # ridimensiona l\\'immagine a 32x32\\n        img = np.array(img).astype(np.float32) / 255.0  # converte l\\'immagine in array NumPy e normalizza i valori dei pixel tra 0 e 1\\n        red_channel = img[:, :, 0]  # estrae il canale rosso\\n        red_pixels += list(red_channel.flatten())  # aggiunge i pixel rossi alla lista\\n        green_channel = img[:, :, 1]  # estrae il canale rosso\\n        green_pixels += list(green_channel.flatten())  # aggiunge i pixel rossi alla lista\\n        blue_channel = img[:, :, 2]  # estrae il canale rosso\\n        blue_pixels += list(blue_channel.flatten())  # aggiunge i pixel rossi alla lista\\n\\nred_pixels_mean = np.mean(red_pixels)  # media dei pixel rossi\\nred_pixels_std = np.std(red_pixels)  # deviazione standard dei pixel rossi\\ngreen_pixels_mean = np.mean(green_pixels)  # media dei pixel rossi\\ngreen_pixels_std = np.std(green_pixels)  # deviazione standard dei pixel rossi\\nblue_pixels_mean = np.mean(blue_pixels)  # media dei pixel rossi\\nblue_pixels_std = np.std(blue_pixels)  # deviazione standard dei pixel rossi\\n\\nprint(\"Media dei pixel rossi: \", red_pixels_mean, green_pixels_mean, blue_pixels_mean)\\nprint(\"Deviazione standard dei pixel rossi: \", red_pixels_std, green_pixels_std, blue_pixels_std)\\n\\n    '"
      ]
     },
     "execution_count": 5,
     "metadata": {},
     "output_type": "execute_result"
    }
   ],
   "source": [
    "\"\"\"\n",
    "import os\n",
    "import numpy as np\n",
    "from PIL import Image\n",
    "\n",
    "folder_path = \"/kaggle/input/eurecom-aml-2023-optional-challenge-1/train/train/\"  # cartella contenente le immagini\n",
    "red_pixels = []  # lista di pixel rossi\n",
    "green_pixels = []  # lista di pixel rossi\n",
    "blue_pixels = []  # lista di pixel rossi\n",
    "\n",
    "for filename in os.listdir(folder_path):\n",
    "    if filename.endswith(\".jpg\") or filename.endswith(\".png\"):  # considera solo file di immagine\n",
    "        img_path = os.path.join(folder_path, filename)\n",
    "        img = Image.open(img_path)  # carica l'immagine\n",
    "        img = img.resize((32, 32))  # ridimensiona l'immagine a 32x32\n",
    "        img = np.array(img).astype(np.float32) / 255.0  # converte l'immagine in array NumPy e normalizza i valori dei pixel tra 0 e 1\n",
    "        red_channel = img[:, :, 0]  # estrae il canale rosso\n",
    "        red_pixels += list(red_channel.flatten())  # aggiunge i pixel rossi alla lista\n",
    "        green_channel = img[:, :, 1]  # estrae il canale rosso\n",
    "        green_pixels += list(green_channel.flatten())  # aggiunge i pixel rossi alla lista\n",
    "        blue_channel = img[:, :, 2]  # estrae il canale rosso\n",
    "        blue_pixels += list(blue_channel.flatten())  # aggiunge i pixel rossi alla lista\n",
    "\n",
    "red_pixels_mean = np.mean(red_pixels)  # media dei pixel rossi\n",
    "red_pixels_std = np.std(red_pixels)  # deviazione standard dei pixel rossi\n",
    "green_pixels_mean = np.mean(green_pixels)  # media dei pixel rossi\n",
    "green_pixels_std = np.std(green_pixels)  # deviazione standard dei pixel rossi\n",
    "blue_pixels_mean = np.mean(blue_pixels)  # media dei pixel rossi\n",
    "blue_pixels_std = np.std(blue_pixels)  # deviazione standard dei pixel rossi\n",
    "\n",
    "print(\"Media dei pixel rossi: \", red_pixels_mean, green_pixels_mean, blue_pixels_mean)\n",
    "print(\"Deviazione standard dei pixel rossi: \", red_pixels_std, green_pixels_std, blue_pixels_std)\n",
    "\n",
    "    \"\"\""
   ]
  },
  {
   "cell_type": "code",
   "execution_count": 6,
   "id": "9a22eef8",
   "metadata": {
    "execution": {
     "iopub.execute_input": "2023-05-17T11:35:43.049659Z",
     "iopub.status.busy": "2023-05-17T11:35:43.048852Z",
     "iopub.status.idle": "2023-05-17T11:35:48.793176Z",
     "shell.execute_reply": "2023-05-17T11:35:48.792158Z"
    },
    "papermill": {
     "duration": 5.756293,
     "end_time": "2023-05-17T11:35:48.796610",
     "exception": false,
     "start_time": "2023-05-17T11:35:43.040317",
     "status": "completed"
    },
    "tags": []
   },
   "outputs": [
    {
     "name": "stdout",
     "output_type": "stream",
     "text": [
      "torch.Size([32, 3, 32, 32]) torch.Size([32])\n"
     ]
    },
    {
     "data": {
      "image/png": "[encoded data removed]",
      "text/plain": [
       "<Figure size 3200x800 with 64 Axes>"
      ]
     },
     "metadata": {},
     "output_type": "display_data"
    }
   ],
   "source": [
    "df = pd.read_csv(\"/kaggle/input/eurecom-aml-2023-optional-challenge-1/train.csv\")\n",
    "\n",
    "batch_size = par['batch_size']\n",
    "\n",
    "labels = df['has_cactus']\n",
    "df = df.drop(columns=['has_cactus'])\n",
    "\n",
    "normalize = transforms.Normalize(\n",
    "   mean=[0.50359046, 0.45194104, 0.46817818],\n",
    "   std=[0.15118405, 0.13978378, 0.15320341]\n",
    ")\n",
    "\n",
    "transform = transforms.Compose([transforms.ToTensor(), normalize])\n",
    "\n",
    "dataset = CactusDataset(dataframe=df, labels=labels,\n",
    "                        img_dir=\"/kaggle/input/eurecom-aml-2023-optional-challenge-1/train/train\",\n",
    "                        transform=transform)\n",
    "\n",
    "train_size = int(0.8 * len(dataset))\n",
    "valid_size = len(dataset) - train_size\n",
    "\n",
    "train_ds, valid_ds = torch.utils.data.random_split(dataset, [train_size, valid_size])\n",
    "\n",
    "\n",
    "\n",
    "train_dl = DataLoader(train_ds, batch_size=batch_size, shuffle=True, num_workers=2)\n",
    "valid_dl = DataLoader(valid_ds, batch_size=batch_size, shuffle=True, num_workers=2)\n",
    "\n",
    "img, label = next(iter(train_dl))\n",
    "print(img.size(), label.size())\n",
    "fig = plt.figure(1, figsize=(32, 8))\n",
    "grid = ImageGrid(fig, 111, nrows_ncols=(4, 8))    \n",
    "for i in range(img.size()[0]):\n",
    "    ax = grid[i]\n",
    "    imshow(ax, img[i])"
   ]
  },
  {
   "cell_type": "markdown",
   "id": "cc2360fd",
   "metadata": {
    "papermill": {
     "duration": 0.009557,
     "end_time": "2023-05-17T11:35:48.816425",
     "exception": false,
     "start_time": "2023-05-17T11:35:48.806868",
     "status": "completed"
    },
    "tags": []
   },
   "source": [
    "# Bayesian CNN"
   ]
  },
  {
   "cell_type": "markdown",
   "id": "328102e6",
   "metadata": {
    "papermill": {
     "duration": 0.00922,
     "end_time": "2023-05-17T11:35:48.834957",
     "exception": false,
     "start_time": "2023-05-17T11:35:48.825737",
     "status": "completed"
    },
    "tags": []
   },
   "source": [
    "## Loss"
   ]
  },
  {
   "cell_type": "code",
   "execution_count": 7,
   "id": "60fcd169",
   "metadata": {
    "execution": {
     "iopub.execute_input": "2023-05-17T11:35:48.855154Z",
     "iopub.status.busy": "2023-05-17T11:35:48.854805Z",
     "iopub.status.idle": "2023-05-17T11:35:48.866080Z",
     "shell.execute_reply": "2023-05-17T11:35:48.865212Z"
    },
    "papermill": {
     "duration": 0.023921,
     "end_time": "2023-05-17T11:35:48.868061",
     "exception": false,
     "start_time": "2023-05-17T11:35:48.844140",
     "status": "completed"
    },
    "tags": []
   },
   "outputs": [],
   "source": [
    "class ELBO(nn.Module):\n",
    "    def __init__(self, train_size):\n",
    "        super(ELBO, self).__init__()\n",
    "        self.train_size = train_size\n",
    "\n",
    "    def forward(self, input, target, kl=0, beta=0):\n",
    "        assert not target.requires_grad\n",
    "        return F.nll_loss(input, target, reduction='mean')  + beta * kl\n",
    "\n",
    "\n",
    "def acc(outputs, targets):\n",
    "    return np.mean(outputs.cpu().numpy().argmax(axis=1) == targets.data.cpu().numpy())\n",
    "\n",
    "\n",
    "def calculate_kl(mu_q, sig_q, mu_p, sig_p):\n",
    "    \"\"\"\n",
    "    q = tfp.distributions.MultivariateNormalDiag(loc=mu_q.numpy(), scale_diag=sig_q.numpy())\n",
    "    p = tfp.distributions.MultivariateNormalDiag(loc=mu_p.numpy(), scale_diag=sig_p.numpy())\n",
    "    kl = tfp.distributions.kl_divergence(q, p)\n",
    "    \"\"\"\n",
    "    kl = 0.5 * (2 * (torch.log(sig_p) - np.log(sig_q)) - 1 + (sig_q / sig_p).pow(2) + ((mu_p - mu_q) / sig_p).pow(2)).sum()\n",
    "\n",
    "    return kl\n",
    "\n",
    "\n",
    "def get_beta(batch_idx, m, beta_type, epoch, num_epochs):\n",
    "    if type(beta_type) is float:\n",
    "        return beta_type\n",
    "\n",
    "    if beta_type == \"Blundell\":\n",
    "        beta = 2 ** (m - (batch_idx + 1)) / (2 ** m - 1)\n",
    "    elif beta_type == \"Soenderby\":\n",
    "        if epoch is None or num_epochs is None:\n",
    "            raise ValueError('Soenderby method requires both epoch and num_epochs to be passed.')\n",
    "        beta = min(epoch / (num_epochs // 4), 1)\n",
    "    elif beta_type == \"Standard\":\n",
    "        beta = 1 / m\n",
    "    else:\n",
    "        beta = 0\n",
    "    return beta"
   ]
  },
  {
   "cell_type": "markdown",
   "id": "04d15070",
   "metadata": {
    "papermill": {
     "duration": 0.009577,
     "end_time": "2023-05-17T11:35:48.887216",
     "exception": false,
     "start_time": "2023-05-17T11:35:48.877639",
     "status": "completed"
    },
    "tags": []
   },
   "source": [
    "## Module Wrapper"
   ]
  },
  {
   "cell_type": "code",
   "execution_count": 8,
   "id": "210d9712",
   "metadata": {
    "execution": {
     "iopub.execute_input": "2023-05-17T11:35:48.907247Z",
     "iopub.status.busy": "2023-05-17T11:35:48.906482Z",
     "iopub.status.idle": "2023-05-17T11:35:48.914792Z",
     "shell.execute_reply": "2023-05-17T11:35:48.913895Z"
    },
    "papermill": {
     "duration": 0.020387,
     "end_time": "2023-05-17T11:35:48.916755",
     "exception": false,
     "start_time": "2023-05-17T11:35:48.896368",
     "status": "completed"
    },
    "tags": []
   },
   "outputs": [],
   "source": [
    "class ModuleWrapper(nn.Module):\n",
    "    \"\"\"Wrapper for nn.Module with support for arbitrary flags and a universal forward pass\"\"\"\n",
    "\n",
    "    def __init__(self):\n",
    "        super(ModuleWrapper, self).__init__()\n",
    "\n",
    "    def set_flag(self, flag_name, value):\n",
    "        setattr(self, flag_name, value)\n",
    "        for m in self.children():\n",
    "            if hasattr(m, 'set_flag'):\n",
    "                m.set_flag(flag_name, value)\n",
    "\n",
    "    def forward(self, x):\n",
    "        for module in self.children():\n",
    "            x = module(x)\n",
    "\n",
    "        kl = 0.0\n",
    "        for module in self.modules():\n",
    "            if hasattr(module, 'kl_loss'):\n",
    "                kl = kl + module.kl_loss()\n",
    "\n",
    "        return x, kl\n",
    "\n",
    "\n",
    "class FlattenLayer(ModuleWrapper):\n",
    "\n",
    "    def __init__(self, num_features):\n",
    "        super(FlattenLayer, self).__init__()\n",
    "        self.num_features = num_features\n",
    "\n",
    "    def forward(self, x):\n",
    "        return x.view(-1, self.num_features)"
   ]
  },
  {
   "cell_type": "markdown",
   "id": "d05d3945",
   "metadata": {
    "papermill": {
     "duration": 0.009207,
     "end_time": "2023-05-17T11:35:48.935177",
     "exception": false,
     "start_time": "2023-05-17T11:35:48.925970",
     "status": "completed"
    },
    "tags": []
   },
   "source": [
    "## BConv2d"
   ]
  },
  {
   "cell_type": "code",
   "execution_count": 9,
   "id": "a2ed8124",
   "metadata": {
    "execution": {
     "iopub.execute_input": "2023-05-17T11:35:48.955410Z",
     "iopub.status.busy": "2023-05-17T11:35:48.954782Z",
     "iopub.status.idle": "2023-05-17T11:35:48.973226Z",
     "shell.execute_reply": "2023-05-17T11:35:48.972274Z"
    },
    "papermill": {
     "duration": 0.031298,
     "end_time": "2023-05-17T11:35:48.975446",
     "exception": false,
     "start_time": "2023-05-17T11:35:48.944148",
     "status": "completed"
    },
    "tags": []
   },
   "outputs": [],
   "source": [
    "class BConv2d(ModuleWrapper):\n",
    "    def __init__(self, in_channels, out_channels, kernel_size,\n",
    "                 stride=1, padding=0, dilation=1, bias=True, priors=None, groups=1):\n",
    "\n",
    "        super(BConv2d, self).__init__()\n",
    "        self.in_channels = in_channels\n",
    "        self.out_channels = out_channels\n",
    "        self.kernel_size = kernel_size if isinstance(kernel_size, tuple) else (kernel_size, kernel_size)\n",
    "        self.stride = stride\n",
    "        self.padding = padding\n",
    "        self.dilation = dilation\n",
    "        self.groups = 1\n",
    "        self.use_bias = bias\n",
    "        self.device = torch.device(\"cuda:0\" if torch.cuda.is_available() else \"cpu\")\n",
    "\n",
    "        if priors is None:\n",
    "            priors = {\n",
    "                'prior_mu': 0,\n",
    "                'prior_sigma': 0.1,\n",
    "                'posterior_mu_initial': (0, 0.1),\n",
    "                'posterior_rho_initial': (-5, 0.1),\n",
    "            }\n",
    "        self.prior_mu = priors['prior_mu']\n",
    "        self.prior_sigma = priors['prior_sigma']\n",
    "        self.posterior_mu_initial = priors['posterior_mu_initial']\n",
    "        self.posterior_rho_initial = priors['posterior_rho_initial']\n",
    "\n",
    "        self.W_mu = Parameter(torch.empty((out_channels, in_channels, *self.kernel_size), device=self.device))\n",
    "        self.W_rho = Parameter(torch.empty((out_channels, in_channels, *self.kernel_size), device=self.device))\n",
    "\n",
    "        if self.use_bias:\n",
    "            self.bias_mu = Parameter(torch.empty((out_channels), device=self.device))\n",
    "            self.bias_rho = Parameter(torch.empty((out_channels), device=self.device))\n",
    "        else:\n",
    "            self.register_parameter('bias_mu', None)\n",
    "            self.register_parameter('bias_rho', None)\n",
    "\n",
    "        self.reset_parameters()\n",
    "\n",
    "    def reset_parameters(self):\n",
    "        self.W_mu.data.normal_(*self.posterior_mu_initial)\n",
    "        self.W_rho.data.normal_(*self.posterior_rho_initial)\n",
    "\n",
    "        if self.use_bias:\n",
    "            self.bias_mu.data.normal_(*self.posterior_mu_initial)\n",
    "            self.bias_rho.data.normal_(*self.posterior_rho_initial)\n",
    "\n",
    "    def forward(self, input, sample=True):\n",
    "        if self.training or sample:\n",
    "            \"\"\"\n",
    "                sigma = log(1 + exp(rho)) -> sampling the weight from the gaussian distribution of parameters mu and sigma.\n",
    "                eps is sampled from a standard normal distribution.\n",
    "            \"\"\"\n",
    "            W_eps = torch.empty(self.W_mu.size()).normal_(0, 1).to(self.device)\n",
    "            # usare direttamente rho\n",
    "            self.W_sigma = torch.log1p(torch.exp(self.W_rho))\n",
    "            # self.W_sigma = torch.exp(self.W_rho)\n",
    "            weight = self.W_mu + W_eps * self.W_sigma\n",
    "\n",
    "            if self.use_bias:\n",
    "                bias_eps = torch.empty(self.bias_mu.size()).normal_(0, 1).to(self.device)\n",
    "                self.bias_sigma = torch.log1p(torch.exp(self.bias_rho))\n",
    "                bias = self.bias_mu + bias_eps * self.bias_sigma\n",
    "            else:\n",
    "                bias = None\n",
    "        else:\n",
    "            weight = self.W_mu\n",
    "            bias = self.bias_mu if self.use_bias else None\n",
    "\n",
    "        return F.conv2d(input, weight, bias, self.stride, self.padding, self.dilation, self.groups)\n",
    "\n",
    "    def kl_loss(self):\n",
    "        kl = calculate_kl(self.prior_mu, self.prior_sigma, self.W_mu, self.W_sigma)\n",
    "        if self.use_bias:\n",
    "            kl += calculate_kl(self.prior_mu, self.prior_sigma, self.bias_mu, self.bias_sigma)\n",
    "        return kl"
   ]
  },
  {
   "cell_type": "markdown",
   "id": "8e11f1d1",
   "metadata": {
    "papermill": {
     "duration": 0.009242,
     "end_time": "2023-05-17T11:35:48.994040",
     "exception": false,
     "start_time": "2023-05-17T11:35:48.984798",
     "status": "completed"
    },
    "tags": []
   },
   "source": [
    "## BLinear"
   ]
  },
  {
   "cell_type": "code",
   "execution_count": 10,
   "id": "500fe113",
   "metadata": {
    "execution": {
     "iopub.execute_input": "2023-05-17T11:35:49.014802Z",
     "iopub.status.busy": "2023-05-17T11:35:49.014182Z",
     "iopub.status.idle": "2023-05-17T11:35:49.029439Z",
     "shell.execute_reply": "2023-05-17T11:35:49.028636Z"
    },
    "papermill": {
     "duration": 0.027916,
     "end_time": "2023-05-17T11:35:49.031350",
     "exception": false,
     "start_time": "2023-05-17T11:35:49.003434",
     "status": "completed"
    },
    "tags": []
   },
   "outputs": [],
   "source": [
    "class BLinear(ModuleWrapper):\n",
    "    \n",
    "    def __init__(self, in_features, out_features, bias=True, priors=None):\n",
    "        super(BLinear, self).__init__()\n",
    "        self.in_features = in_features\n",
    "        self.out_features = out_features\n",
    "        self.use_bias = bias\n",
    "        self.device = torch.device(\"cuda:0\" if torch.cuda.is_available() else \"cpu\")\n",
    "\n",
    "        if priors is None:\n",
    "            priors = {\n",
    "                'prior_mu': 0,\n",
    "                'prior_sigma': 0.1,\n",
    "                'posterior_mu_initial': (0, 0.1),\n",
    "                'posterior_rho_initial': (-5, 0.1),\n",
    "            }\n",
    "        self.prior_mu = priors['prior_mu']\n",
    "        self.prior_sigma = priors['prior_sigma']\n",
    "        self.posterior_mu_initial = priors['posterior_mu_initial']\n",
    "        self.posterior_rho_initial = priors['posterior_rho_initial']\n",
    "\n",
    "        self.W_mu = Parameter(torch.empty((out_features, in_features), device=self.device))\n",
    "        self.W_rho = Parameter(torch.empty((out_features, in_features), device=self.device))\n",
    "\n",
    "        if self.use_bias:\n",
    "            self.bias_mu = Parameter(torch.empty((out_features), device=self.device))\n",
    "            self.bias_rho = Parameter(torch.empty((out_features), device=self.device))\n",
    "        else:\n",
    "            self.register_parameter('bias_mu', None)\n",
    "            self.register_parameter('bias_rho', None)\n",
    "\n",
    "        self.reset_parameters()\n",
    "\n",
    "    def reset_parameters(self):\n",
    "        self.W_mu.data.normal_(*self.posterior_mu_initial)\n",
    "        self.W_rho.data.normal_(*self.posterior_rho_initial)\n",
    "\n",
    "        if self.use_bias:\n",
    "            self.bias_mu.data.normal_(*self.posterior_mu_initial)\n",
    "            self.bias_rho.data.normal_(*self.posterior_rho_initial)\n",
    "\n",
    "    def forward(self, input, sample=True):\n",
    "        if self.training or sample:\n",
    "            W_eps = torch.empty(self.W_mu.size()).normal_(0, 1).to(self.device)\n",
    "            self.W_sigma = torch.log1p(torch.exp(self.W_rho))\n",
    "            # self.W_sigma = torch.exp(self.W_rho)\n",
    "            weight = self.W_mu + W_eps * self.W_sigma\n",
    "\n",
    "            if self.use_bias:\n",
    "                bias_eps = torch.empty(self.bias_mu.size()).normal_(0, 1).to(self.device)\n",
    "                self.bias_sigma = torch.log1p(torch.exp(self.bias_rho))\n",
    "                bias = self.bias_mu + bias_eps * self.bias_sigma\n",
    "            else:\n",
    "                bias = None\n",
    "        else:\n",
    "            weight = self.W_mu\n",
    "            bias = self.bias_mu if self.use_bias else None\n",
    "\n",
    "        return F.linear(input, weight, bias)\n",
    "    \n",
    "    \n",
    "\n",
    "    def kl_loss(self):\n",
    "        kl = calculate_kl(self.prior_mu, self.prior_sigma, self.W_mu, self.W_sigma)\n",
    "        if self.use_bias:\n",
    "            kl += calculate_kl(self.prior_mu, self.prior_sigma, self.bias_mu, self.bias_sigma)\n",
    "        return kl"
   ]
  },
  {
   "cell_type": "markdown",
   "id": "60709d3d",
   "metadata": {
    "papermill": {
     "duration": 0.009451,
     "end_time": "2023-05-17T11:35:49.049871",
     "exception": false,
     "start_time": "2023-05-17T11:35:49.040420",
     "status": "completed"
    },
    "tags": []
   },
   "source": [
    "## ConvNeXt block"
   ]
  },
  {
   "cell_type": "code",
   "execution_count": 11,
   "id": "6cac70a5",
   "metadata": {
    "execution": {
     "iopub.execute_input": "2023-05-17T11:35:49.070023Z",
     "iopub.status.busy": "2023-05-17T11:35:49.069484Z",
     "iopub.status.idle": "2023-05-17T11:35:49.081456Z",
     "shell.execute_reply": "2023-05-17T11:35:49.080633Z"
    },
    "papermill": {
     "duration": 0.024169,
     "end_time": "2023-05-17T11:35:49.083366",
     "exception": false,
     "start_time": "2023-05-17T11:35:49.059197",
     "status": "completed"
    },
    "tags": []
   },
   "outputs": [],
   "source": [
    "class ConvNeXtBlock(Module):\n",
    "    def __init__(self, res):\n",
    "        super(ConvNeXtBlock, self).__init__()\n",
    "        self.layer1=nn.Conv2d(in_channels=3, out_channels=3,\n",
    "                          kernel_size=7, padding=3,\n",
    "                          groups=3)\n",
    "        self.ln=LayerNorm(normalized_shape=(3,res,res))\n",
    "        self.layer2=nn.Conv2d(in_channels=3, out_channels=12,\n",
    "                           kernel_size=1)\n",
    "        self.gelu=nn.GELU()\n",
    "        self.layer3=nn.Conv2d(in_channels=12, out_channels=3,\n",
    "                           kernel_size=1)\n",
    "        \n",
    "    def forward(self, x):\n",
    "        y=self.layer1(x)\n",
    "        y=self.ln(y)\n",
    "        y=self.layer2(y)\n",
    "        y=self.gelu(y)\n",
    "        y=self.layer3(y)\n",
    "        return y+x\n",
    "    \n",
    "class LayerNorm(nn.Module):\n",
    "    r\"\"\" LayerNorm that supports two data formats: channels_last (default) or channels_first. \n",
    "    The ordering of the dimensions in the inputs. channels_last corresponds to inputs with \n",
    "    shape (batch_size, height, width, channels) while channels_first corresponds to inputs \n",
    "    with shape (batch_size, channels, height, width).\n",
    "    \"\"\"\n",
    "    def __init__(self, normalized_shape, eps=1e-6, data_format=\"channels_last\"):\n",
    "        super().__init__()\n",
    "        self.weight = nn.Parameter(torch.ones(normalized_shape))\n",
    "        self.bias = nn.Parameter(torch.zeros(normalized_shape))\n",
    "        self.eps = eps\n",
    "        self.data_format = data_format\n",
    "        if self.data_format not in [\"channels_last\", \"channels_first\"]:\n",
    "            raise NotImplementedError \n",
    "        self.normalized_shape = normalized_shape\n",
    "    \n",
    "    def forward(self, x):\n",
    "        if self.data_format == \"channels_last\":\n",
    "            return F.layer_norm(x, self.normalized_shape, self.weight, self.bias, self.eps)\n",
    "        elif self.data_format == \"channels_first\":\n",
    "            u = x.mean(1, keepdim=True)\n",
    "            s = (x - u).pow(2).mean(1, keepdim=True)\n",
    "            x = (x - u) / torch.sqrt(s + self.eps)\n",
    "            x = self.weight[:, None, None] * x + self.bias[:, None, None]\n",
    "            return x"
   ]
  },
  {
   "cell_type": "markdown",
   "id": "c95b8bfa",
   "metadata": {
    "papermill": {
     "duration": 0.008925,
     "end_time": "2023-05-17T11:35:49.101460",
     "exception": false,
     "start_time": "2023-05-17T11:35:49.092535",
     "status": "completed"
    },
    "tags": []
   },
   "source": [
    "## BConvNeXt Block"
   ]
  },
  {
   "cell_type": "code",
   "execution_count": 12,
   "id": "dfb0bdce",
   "metadata": {
    "execution": {
     "iopub.execute_input": "2023-05-17T11:35:49.121436Z",
     "iopub.status.busy": "2023-05-17T11:35:49.120624Z",
     "iopub.status.idle": "2023-05-17T11:35:49.128773Z",
     "shell.execute_reply": "2023-05-17T11:35:49.127776Z"
    },
    "papermill": {
     "duration": 0.020143,
     "end_time": "2023-05-17T11:35:49.130780",
     "exception": false,
     "start_time": "2023-05-17T11:35:49.110637",
     "status": "completed"
    },
    "tags": []
   },
   "outputs": [],
   "source": [
    "class BConvNeXtBlock(ModuleWrapper):\n",
    "    def __init__(self, res):\n",
    "        super(BConvNeXtBlock, self).__init__()\n",
    "        self.layer1=BConv2d(in_channels=3, out_channels=3,\n",
    "                          kernel_size=7, padding=3,\n",
    "                          groups=3)\n",
    "        self.ln=LayerNorm(normalized_shape=(3,res,res))\n",
    "        self.layer2=BConv2d(in_channels=3, out_channels=12,\n",
    "                           kernel_size=1)\n",
    "        self.gelu=nn.GELU()\n",
    "        self.layer3=BConv2d(in_channels=12, out_channels=3,\n",
    "                           kernel_size=1)\n",
    "    def forward(self, x):\n",
    "        identity=x\n",
    "        for module in self.children():\n",
    "            x = module(x)\n",
    "        kl = 0.0\n",
    "        for module in self.modules():\n",
    "            if hasattr(module, 'kl_loss'):\n",
    "                kl = kl + module.kl_loss()\n",
    "        return x+identity, kl"
   ]
  },
  {
   "cell_type": "markdown",
   "id": "a49dde3b",
   "metadata": {
    "papermill": {
     "duration": 0.008969,
     "end_time": "2023-05-17T11:35:49.149126",
     "exception": false,
     "start_time": "2023-05-17T11:35:49.140157",
     "status": "completed"
    },
    "tags": []
   },
   "source": [
    "# Models"
   ]
  },
  {
   "cell_type": "code",
   "execution_count": 13,
   "id": "23ea2531",
   "metadata": {
    "execution": {
     "iopub.execute_input": "2023-05-17T11:35:49.169195Z",
     "iopub.status.busy": "2023-05-17T11:35:49.168444Z",
     "iopub.status.idle": "2023-05-17T11:35:49.206859Z",
     "shell.execute_reply": "2023-05-17T11:35:49.206045Z"
    },
    "papermill": {
     "duration": 0.0507,
     "end_time": "2023-05-17T11:35:49.208903",
     "exception": false,
     "start_time": "2023-05-17T11:35:49.158203",
     "status": "completed"
    },
    "tags": []
   },
   "outputs": [],
   "source": [
    "######################### AlexNet ##########################\n",
    "\n",
    "class AlexNet(nn.Module):\n",
    "    def __init__(self, num_channels, classes):\n",
    "        \n",
    "        super(AlexNet, self).__init__()\n",
    "        self.num_classes = classes\n",
    "        self.num_channels = num_channels\n",
    "        \n",
    "        self.layer1 = nn.Sequential(\n",
    "            nn.Conv2d(in_channels=num_channels, out_channels=64, kernel_size=11,\n",
    "                              stride=4, padding=5, bias=True),\n",
    "            nn.ReLU(),\n",
    "            nn.MaxPool2d(kernel_size=2, stride=2)\n",
    "        )\n",
    "        \n",
    "        self.layer2 = nn.Sequential(\n",
    "            nn.Conv2d(64, 192, 5, padding=2, bias=True),\n",
    "            nn.ReLU(),\n",
    "            nn.MaxPool2d(kernel_size=2, stride=2)\n",
    "        )\n",
    "\n",
    "        self.layer3 = nn.Sequential(\n",
    "            nn.Conv2d(192, 384, 3, padding=1, bias=True),\n",
    "            nn.ReLU()\n",
    "        )\n",
    "\n",
    "        self.layer4 = nn.Sequential(\n",
    "            nn.Conv2d(384, 256, 3, padding=1, bias=True),\n",
    "            nn.ReLU()\n",
    "        )\n",
    "\n",
    "        self.layer5 = nn.Sequential(\n",
    "            nn.Conv2d(256, 128, 3, padding=1, bias=True),\n",
    "            nn.ReLU(),\n",
    "            nn.MaxPool2d(kernel_size=2, stride=2)\n",
    "        )\n",
    "\n",
    "        self.flatten = FlattenLayer(1 * 1 * 128)\n",
    "\n",
    "        self.linear = nn.Linear(in_features=128, out_features=classes)\n",
    "        \n",
    "        self.softmax = nn.Softmax(dim=1)\n",
    "        \n",
    "    def forward(self, x):\n",
    "        \n",
    "        x = self.layer1(x)\n",
    "        x = self.layer2(x)\n",
    "        x = self.layer3(x)\n",
    "        x = self.layer4(x)\n",
    "        x = self.layer5(x)\n",
    "        x = self.flatten(x)\n",
    "        x = self.linear(x)\n",
    "        x = self.softmax(x)\n",
    "        \n",
    "        return x\n",
    "\n",
    "######################### BAlexNet #########################\n",
    "\n",
    "class BAlexNet(ModuleWrapper):\n",
    "    def __init__(self, num_channels, classes):\n",
    "        \n",
    "        super(BAlexNet, self).__init__()\n",
    "        self.num_classes = classes\n",
    "        self.num_channels = num_channels\n",
    "        self.layer1 = nn.Sequential(\n",
    "            BConv2d(in_channels=num_channels, out_channels=64, kernel_size=11,\n",
    "                              stride=4, padding=5, bias=True),\n",
    "            nn.ReLU(),\n",
    "            nn.MaxPool2d(kernel_size=2, stride=2)\n",
    "        )\n",
    "        \n",
    "        self.layer2 = nn.Sequential(\n",
    "            BConv2d(64, 192, 5, padding=2, bias=True),\n",
    "            nn.ReLU(),\n",
    "            nn.MaxPool2d(kernel_size=2, stride=2)\n",
    "        )\n",
    "\n",
    "        self.layer3 = nn.Sequential(\n",
    "            BConv2d(192, 384, 3, padding=1, bias=True),\n",
    "            nn.ReLU()\n",
    "        )\n",
    "\n",
    "        self.layer4 = nn.Sequential(\n",
    "            BConv2d(384, 256, 3, padding=1, bias=True),\n",
    "            nn.ReLU()\n",
    "        )\n",
    "\n",
    "        self.layer5 = nn.Sequential(\n",
    "            BConv2d(256, 128, 3, padding=1, bias=True),\n",
    "            nn.ReLU(),\n",
    "            nn.MaxPool2d(kernel_size=2, stride=2)\n",
    "        )\n",
    "\n",
    "        self.flatten = FlattenLayer(1 * 1 * 128)\n",
    "\n",
    "        self.linear = BLinear(in_features=128, out_features=classes)\n",
    "        \n",
    "        self.log_softmax = nn.LogSoftmax(dim=1)\n",
    "        \n",
    "\n",
    "######################### DNet ##########################\n",
    "\n",
    "class DNet(Module):\n",
    "    def __init__(self, numChannels, classes):\n",
    "        super(DNet, self).__init__()\n",
    "\n",
    "        #[[CONV => ReLU]*N => POOL]; N=2   (es: 32x32x3)\n",
    "        self.conv1 = nn.Conv2d(in_channels=numChannels, out_channels=5,\n",
    "                            kernel_size=(5,5), stride=1, padding=2)     # 32x32x5\n",
    "        self.relu1 = nn.ReLU()\n",
    "        self.conv2 = nn.Conv2d(in_channels=5, out_channels=10,\n",
    "                            kernel_size=(3,3), stride=1, padding=1)     # 32x32x10\n",
    "        self.relu2 = nn.ReLU()\n",
    "        self.maxpool1 = nn.MaxPool2d(kernel_size=(2, 2), stride=(2, 2))    # 16x16x10\n",
    "\n",
    "        #[[CONV => ReLU]*N => POOL]; N=1\n",
    "        self.conv3 = nn.Conv2d(in_channels=10, out_channels=15,            # 16x16x15\n",
    "                            kernel_size=(3,3), stride=1, padding=1)\n",
    "        self.relu3 = nn.ReLU()\n",
    "        self.maxpool2 = nn.MaxPool2d(kernel_size=(2, 2), stride=(2, 2))    # 8x8x15\n",
    "\n",
    "        #[FC => ReLU]*K => FC; K=1\n",
    "        self.fc1 = nn.Linear(in_features=960, out_features=400)      # in_feature = 8x8x15 = 960\n",
    "        self.relu4 = nn.ReLU()\n",
    "        self.fc2 = nn.Linear(in_features=400, out_features=classes)\n",
    "\n",
    "        self.softmax = nn.Softmax(dim=1)\n",
    "\n",
    "    def forward(self, x):\n",
    "        x = self.conv1(x) #32*32*20\n",
    "        x = self.relu1(x) \n",
    "        x = self.conv2(x) #32*32*3\n",
    "        x = self.relu2(x)\n",
    "        x = self.maxpool1(x) #16*16*3\n",
    "\n",
    "        x = self.conv3(x) #\n",
    "        x = self.relu3(x)\n",
    "        x = self.maxpool2(x)\n",
    "\n",
    "        x = torch.flatten(x, 1)   # x is a multi-dimensional tensor,\n",
    "                            # we need to “flatten” it into a 1D list of values\n",
    "        x = self.fc1(x)\n",
    "        x = self.relu4(x)\n",
    "        x = self.fc2(x)\n",
    "        output = self.softmax(x)\n",
    "\n",
    "        return output\n",
    "\n",
    "############################### BDNet #################################\n",
    "\n",
    "class BDNet(ModuleWrapper):\n",
    "    def __init__(self, num_channels, classes):\n",
    "        super(BDNet, self).__init__()\n",
    "        self.num_classes = classes\n",
    "        #[[CONV => ReLU]*N => POOL]; N=2   (es: 32x32x3)\n",
    "        self.conv1 = BConv2d(in_channels=num_channels, out_channels=5,\n",
    "                            kernel_size=(5,5), stride=1, padding=2)     # 32x32x5\n",
    "        self.relu1 = nn.ReLU()\n",
    "        self.conv2 = BConv2d(in_channels=5, out_channels=10,\n",
    "                            kernel_size=(3,3), stride=1, padding=1)     # 32x32x10\n",
    "        self.relu2 = nn.ReLU()\n",
    "        self.maxpool1 = nn.MaxPool2d(kernel_size=(2, 2), stride=(2, 2))    # 16x16x10\n",
    "\n",
    "        #[[CONV => ReLU]*N => POOL]; N=1\n",
    "        self.conv3 = BConv2d(in_channels=10, out_channels=15,            # 16x16x15\n",
    "                            kernel_size=(3,3), stride=1, padding=1)\n",
    "        self.relu3 = nn.ReLU()\n",
    "        self.maxpool2 = nn.MaxPool2d(kernel_size=(2, 2), stride=(2, 2))    # 8x8x15\n",
    "        \n",
    "        self.flatten = FlattenLayer(960)\n",
    "        \n",
    "        #[FC => ReLU]*K => FC; K=1\n",
    "        self.fc1 = BLinear(in_features=960, out_features=400)      # in_feature = 8x8x15 = 960\n",
    "        self.relu4 = nn.ReLU()\n",
    "        self.fc2 = BLinear(in_features=400, out_features=classes)\n",
    "\n",
    "        self.log_softmax = nn.LogSoftmax(dim=1)\n",
    "    \n",
    "    \n",
    "################################# ConvNeXt ################################   \n",
    "\n",
    "class ConvNeXt(Module):\n",
    "    def __init__(self, num_classes, res=32):\n",
    "        super(ConvNeXt, self).__init__()\n",
    "        \n",
    "        self.num_classes = num_classes\n",
    "        self.conv_next = nn.Sequential(ConvNeXtBlock(res),ConvNeXtBlock(res),ConvNeXtBlock(res),ConvNeXtBlock(res))\n",
    "        \n",
    "        self.fc = nn.Linear(3*(res**2), 2)\n",
    "        self.softmax = nn.Softmax(dim=1)\n",
    "    \n",
    "    def forward(self, x):\n",
    "        x= self.conv_next(x)\n",
    "        x = torch.flatten(x, 1)   # x is a multi-dimensional tensor,\n",
    "                            # we need to “flatten” it into a 1D list of values\n",
    "        x = self.fc(x)\n",
    "        return self.softmax(x)\n",
    "    \n",
    "################################# BConvNeXt ##############################\n",
    "\n",
    "class BConvNeXt(ModuleWrapper):\n",
    "    def __init__(self, num_classes, res=32):\n",
    "        super(BConvNeXt, self).__init__()\n",
    "        self.num_classes = num_classes\n",
    "        self.conv_next1 = BConvNeXtBlock(res)\n",
    "        self.conv_next2 = BConvNeXtBlock(res)\n",
    "        self.conv_next3 = BConvNeXtBlock(res)\n",
    "        self.conv_next4 = BConvNeXtBlock(res)\n",
    "        self.conv_next5 = BConvNeXtBlock(res)\n",
    "        self.flatten = FlattenLayer(3072)\n",
    "        self.fc1 = BLinear(3*(res**2), 2)\n",
    "        self.log_softmax = nn.LogSoftmax(dim=1)\n",
    "    def forward(self, x):\n",
    "        kl = 0.0\n",
    "        out = self.conv_next1(x)\n",
    "        x = out[0]\n",
    "        kl += out[1]\n",
    "        out = self.conv_next2(x)\n",
    "        x = out[0]\n",
    "        kl += out[1]\n",
    "        out = self.conv_next3(x)\n",
    "        x = out[0]\n",
    "        kl += out[1]\n",
    "        out = self.conv_next4(x)\n",
    "        x = out[0]\n",
    "        kl += out[1]\n",
    "        out = self.conv_next5(x)\n",
    "        x = out[0]\n",
    "        kl += out[1]\n",
    "        x = self.flatten(x)\n",
    "        x = self.fc1(x)\n",
    "        kl += self.fc1.kl_loss()\n",
    "        return self.log_softmax(x), kl\n",
    "    "
   ]
  },
  {
   "cell_type": "markdown",
   "id": "093a2c9f",
   "metadata": {
    "papermill": {
     "duration": 0.00948,
     "end_time": "2023-05-17T11:35:49.227488",
     "exception": false,
     "start_time": "2023-05-17T11:35:49.218008",
     "status": "completed"
    },
    "tags": []
   },
   "source": [
    "# Train-Test"
   ]
  },
  {
   "cell_type": "code",
   "execution_count": 14,
   "id": "cdff3404",
   "metadata": {
    "execution": {
     "iopub.execute_input": "2023-05-17T11:35:49.247560Z",
     "iopub.status.busy": "2023-05-17T11:35:49.247256Z",
     "iopub.status.idle": "2023-05-17T11:35:49.271627Z",
     "shell.execute_reply": "2023-05-17T11:35:49.270808Z"
    },
    "papermill": {
     "duration": 0.03686,
     "end_time": "2023-05-17T11:35:49.273890",
     "exception": false,
     "start_time": "2023-05-17T11:35:49.237030",
     "status": "completed"
    },
    "tags": []
   },
   "outputs": [],
   "source": [
    "def train_val(net, criterion, optimizer, lr_scheduler, n_epochs, train_loader, val_loader, device):\n",
    "\n",
    "    scores = []\n",
    "    num_ens = par['num_ens']\n",
    "    train_losses = []\n",
    "    val_losses = []\n",
    "    best_loss = 1e10\n",
    "    best_model = None\n",
    "    \n",
    "    for epoch in range(n_epochs):\n",
    "        \n",
    "        net.train()\n",
    "        training_loss_iters = 0.0\n",
    "        loss_list = []\n",
    "        \n",
    "\n",
    "        print('EPOCH {}/{}'.format(epoch+1, n_epochs))\n",
    "\n",
    "        for i, (inputs, labels) in tqdm(enumerate(train_loader), desc='Iteration', leave=True):\n",
    "\n",
    "            optimizer.zero_grad()\n",
    "            inputs, labels = inputs.to(device), labels.to(device)\n",
    "\n",
    "            if par['model'].startswith(\"B\"):  \n",
    "                \n",
    "                outputs_ens = torch.zeros(inputs.shape[0], net.num_classes, num_ens).to(device)\n",
    "                kl = 0.0\n",
    "                \n",
    "                for j in range(num_ens):\n",
    "                    net_out, _kl = net(inputs)\n",
    "                    kl += _kl\n",
    "                    outputs_ens[:, :, j] = F.log_softmax(net_out, dim=1)\n",
    "        \n",
    "                kl = kl / num_ens\n",
    "                outputs = logmeanexp(outputs_ens, dim=2)\n",
    "                \n",
    "                beta = get_beta(i-1, len(train_loader), beta_type=\"standard\", epoch=epoch, num_epochs=n_epochs)\n",
    "                loss = criterion(outputs, labels, kl=kl, beta=beta)\n",
    "\n",
    "            else:\n",
    "                outputs = net(inputs)\n",
    "                loss = criterion(outputs, labels)\n",
    "\n",
    "            loss.backward()\n",
    "            optimizer.step()\n",
    "\n",
    "            loss_list.append(loss.item())\n",
    "            training_loss_iters += loss.item()\n",
    "\n",
    "            \n",
    "            if i % 100 == 0 and i != 0:\n",
    "                print('Iteration: {}, loss: {}'.format(i+1, training_loss_iters))\n",
    "                training_loss_iters = 0.0\n",
    "                \"\"\"\n",
    "                if par['model'].startswith(\"B\"):\n",
    "                    plot_prior_posterior(net, epoch, i)\n",
    "                    \"\"\"\n",
    "            \n",
    "        lr_scheduler.step()\n",
    "        train_losses.append(np.mean(loss_list))\n",
    "        # plot_loss(kl_list, epoch)\n",
    "        print('Validating...')\n",
    "\n",
    "        y_pred = []\n",
    "        y_true = []\n",
    "        loss_list = []\n",
    "        \n",
    "        net.eval()\n",
    "\n",
    "        for (inputs, labels) in tqdm(val_loader, desc='Iteration', leave=True):\n",
    "            \n",
    "            inputs, labels = inputs.to(device), labels.to(device)\n",
    "            \n",
    "            if par['model'].startswith(\"B\"):\n",
    "                outputs_ens = torch.zeros(inputs.shape[0], net.num_classes, num_ens).to(device)\n",
    "                kl = 0.0\n",
    "                for j in range(num_ens):\n",
    "                    net_out, _kl = net(inputs)\n",
    "                    kl += _kl\n",
    "                    outputs_ens[:, :, j] = F.log_softmax(net_out, dim=1).data\n",
    "                \n",
    "                kl = kl / num_ens\n",
    "                outputs = logmeanexp(outputs_ens, dim=2)\n",
    "                loss = criterion(outputs, labels, kl=kl, beta=beta)\n",
    "                \n",
    "                outputs = torch.exp(outputs)\n",
    "            else:\n",
    "                outputs = net(inputs)\n",
    "                loss = criterion(outputs, labels)\n",
    "                \n",
    "            outputs = outputs[:, 1].data.cpu().numpy()\n",
    "            \n",
    "            loss_list.append(loss.item())\n",
    "            \n",
    "            y_pred.extend(outputs)\n",
    "            labels = labels.data.cpu().numpy()\n",
    "            y_true.extend(labels)\n",
    "            \n",
    "        score = roc_auc_score(y_true, y_pred)\n",
    "        y_pred_label = [1 if prob >= 0.5 else 0 for prob in y_pred]\n",
    "        val_loss_mean = np.mean(loss_list)\n",
    "        val_losses.append(val_loss_mean)\n",
    "        # plot_confusion_matrix(y_true, y_pred)\n",
    "        print(f'Metric: {score}')\n",
    "        scores.append(score)\n",
    "        if val_loss_mean < best_loss:\n",
    "            best_loss = val_loss_mean\n",
    "            best_model = net.state_dict()\n",
    "        \n",
    "    # plot_loss(loss_list, epoch)\n",
    "    print(f\"Train mean losses: {train_losses}\")\n",
    "    print(f\"Val mean losses: {val_losses}\")\n",
    "    \n",
    "    return net, scores, train_losses, val_losses, best_loss, best_model\n",
    "\n",
    "######### FUNCTION FOR TESTING #########\n",
    "\n",
    "def test(net, test_loader, device):\n",
    "    \n",
    "    num_ens = par['num_ens']\n",
    "    net.eval()\n",
    "    with torch.no_grad():\n",
    "        y_pred = []\n",
    "        for inputs in tqdm(test_loader):\n",
    "            inputs = inputs.to(device)\n",
    "            if par['model'].startswith(\"B\"):\n",
    "                outputs_ens = torch.zeros(inputs.shape[0], net.num_classes, num_ens).to(device)\n",
    "                kl = 0.0\n",
    "                for j in range(num_ens):\n",
    "                    net_out, _kl = net(inputs)\n",
    "                    kl += _kl\n",
    "                    outputs_ens[:, :, j] = F.log_softmax(net_out, dim=1).data\n",
    "                outputs = logmeanexp(outputs_ens, dim=2)\n",
    "                outputs = torch.exp(outputs)\n",
    "            else:\n",
    "                outputs = net(inputs)\n",
    "            outputs = outputs[:, 1].data.cpu().numpy()\n",
    "            # outputs = (torch.max(torch.exp(outputs), 1)[1]).data.cpu().numpy()\n",
    "            y_pred.extend(outputs)\n",
    "    return net, y_pred"
   ]
  },
  {
   "cell_type": "code",
   "execution_count": 15,
   "id": "09a97acd",
   "metadata": {
    "execution": {
     "iopub.execute_input": "2023-05-17T11:35:49.294397Z",
     "iopub.status.busy": "2023-05-17T11:35:49.293653Z",
     "iopub.status.idle": "2023-05-17T12:07:30.117513Z",
     "shell.execute_reply": "2023-05-17T12:07:30.116138Z"
    },
    "papermill": {
     "duration": 1900.836709,
     "end_time": "2023-05-17T12:07:30.119882",
     "exception": false,
     "start_time": "2023-05-17T11:35:49.283173",
     "status": "completed"
    },
    "tags": []
   },
   "outputs": [
    {
     "name": "stdout",
     "output_type": "stream",
     "text": [
      "STARTING TRAINING-VAL WITH 20 EPOCHS, 32 BATCH SIZE\n",
      "SELECTED MODEL BConvNext\n",
      "RUNNING ON: cuda\n",
      "EPOCH 1/20\n"
     ]
    },
    {
     "name": "stderr",
     "output_type": "stream",
     "text": [
      "Iteration: 101it [00:31,  5.22it/s]"
     ]
    },
    {
     "name": "stdout",
     "output_type": "stream",
     "text": [
      "Iteration: 101, loss: 109.97768677026033\n"
     ]
    },
    {
     "name": "stderr",
     "output_type": "stream",
     "text": [
      "Iteration: 202it [00:51,  5.12it/s]"
     ]
    },
    {
     "name": "stdout",
     "output_type": "stream",
     "text": [
      "Iteration: 201, loss: 69.39067929238081\n"
     ]
    },
    {
     "name": "stderr",
     "output_type": "stream",
     "text": [
      "Iteration: 301it [01:12,  5.02it/s]"
     ]
    },
    {
     "name": "stdout",
     "output_type": "stream",
     "text": [
      "Iteration: 301, loss: 61.587080508470535\n"
     ]
    },
    {
     "name": "stderr",
     "output_type": "stream",
     "text": [
      "Iteration: 402it [01:33,  5.01it/s]"
     ]
    },
    {
     "name": "stdout",
     "output_type": "stream",
     "text": [
      "Iteration: 401, loss: 61.53437377512455\n"
     ]
    },
    {
     "name": "stderr",
     "output_type": "stream",
     "text": [
      "Iteration: 411it [01:34,  4.34it/s]\n"
     ]
    },
    {
     "name": "stdout",
     "output_type": "stream",
     "text": [
      "Validating...\n"
     ]
    },
    {
     "name": "stderr",
     "output_type": "stream",
     "text": [
      "Iteration: 100%|██████████| 137/137 [00:23<00:00,  5.76it/s]"
     ]
    },
    {
     "name": "stdout",
     "output_type": "stream",
     "text": [
      "Metric: 0.9109374611977981\n",
      "EPOCH 2/20\n"
     ]
    },
    {
     "name": "stderr",
     "output_type": "stream",
     "text": [
      "\n",
      "Iteration: 102it [00:19,  5.50it/s]"
     ]
    },
    {
     "name": "stdout",
     "output_type": "stream",
     "text": [
      "Iteration: 101, loss: 49.24841842055321\n"
     ]
    },
    {
     "name": "stderr",
     "output_type": "stream",
     "text": [
      "Iteration: 202it [00:38,  5.38it/s]"
     ]
    },
    {
     "name": "stdout",
     "output_type": "stream",
     "text": [
      "Iteration: 201, loss: 38.21145744249225\n"
     ]
    },
    {
     "name": "stderr",
     "output_type": "stream",
     "text": [
      "Iteration: 302it [00:57,  5.55it/s]"
     ]
    },
    {
     "name": "stdout",
     "output_type": "stream",
     "text": [
      "Iteration: 301, loss: 32.11977100651711\n"
     ]
    },
    {
     "name": "stderr",
     "output_type": "stream",
     "text": [
      "Iteration: 402it [01:16,  5.41it/s]"
     ]
    },
    {
     "name": "stdout",
     "output_type": "stream",
     "text": [
      "Iteration: 401, loss: 30.9033131506294\n"
     ]
    },
    {
     "name": "stderr",
     "output_type": "stream",
     "text": [
      "Iteration: 411it [01:17,  5.28it/s]\n"
     ]
    },
    {
     "name": "stdout",
     "output_type": "stream",
     "text": [
      "Validating...\n"
     ]
    },
    {
     "name": "stderr",
     "output_type": "stream",
     "text": [
      "Iteration: 100%|██████████| 137/137 [00:14<00:00,  9.76it/s]"
     ]
    },
    {
     "name": "stdout",
     "output_type": "stream",
     "text": [
      "Metric: 0.9561137094215194\n",
      "EPOCH 3/20\n"
     ]
    },
    {
     "name": "stderr",
     "output_type": "stream",
     "text": [
      "\n",
      "Iteration: 102it [00:19,  5.48it/s]"
     ]
    },
    {
     "name": "stdout",
     "output_type": "stream",
     "text": [
      "Iteration: 101, loss: 28.31109306542203\n"
     ]
    },
    {
     "name": "stderr",
     "output_type": "stream",
     "text": [
      "Iteration: 202it [00:38,  5.43it/s]"
     ]
    },
    {
     "name": "stdout",
     "output_type": "stream",
     "text": [
      "Iteration: 201, loss: 22.16238201595843\n"
     ]
    },
    {
     "name": "stderr",
     "output_type": "stream",
     "text": [
      "Iteration: 302it [00:57,  5.29it/s]"
     ]
    },
    {
     "name": "stdout",
     "output_type": "stream",
     "text": [
      "Iteration: 301, loss: 19.806651975028217\n"
     ]
    },
    {
     "name": "stderr",
     "output_type": "stream",
     "text": [
      "Iteration: 402it [01:16,  5.41it/s]"
     ]
    },
    {
     "name": "stdout",
     "output_type": "stream",
     "text": [
      "Iteration: 401, loss: 21.18911885097623\n"
     ]
    },
    {
     "name": "stderr",
     "output_type": "stream",
     "text": [
      "Iteration: 411it [01:18,  5.25it/s]\n"
     ]
    },
    {
     "name": "stdout",
     "output_type": "stream",
     "text": [
      "Validating...\n"
     ]
    },
    {
     "name": "stderr",
     "output_type": "stream",
     "text": [
      "Iteration: 100%|██████████| 137/137 [00:14<00:00,  9.71it/s]"
     ]
    },
    {
     "name": "stdout",
     "output_type": "stream",
     "text": [
      "Metric: 0.9616133438185506\n",
      "EPOCH 4/20\n"
     ]
    },
    {
     "name": "stderr",
     "output_type": "stream",
     "text": [
      "\n",
      "Iteration: 102it [00:19,  5.33it/s]"
     ]
    },
    {
     "name": "stdout",
     "output_type": "stream",
     "text": [
      "Iteration: 101, loss: 16.26911377068609\n"
     ]
    },
    {
     "name": "stderr",
     "output_type": "stream",
     "text": [
      "Iteration: 202it [00:38,  5.60it/s]"
     ]
    },
    {
     "name": "stdout",
     "output_type": "stream",
     "text": [
      "Iteration: 201, loss: 17.123042503837496\n"
     ]
    },
    {
     "name": "stderr",
     "output_type": "stream",
     "text": [
      "Iteration: 302it [00:57,  5.53it/s]"
     ]
    },
    {
     "name": "stdout",
     "output_type": "stream",
     "text": [
      "Iteration: 301, loss: 18.0236135404557\n"
     ]
    },
    {
     "name": "stderr",
     "output_type": "stream",
     "text": [
      "Iteration: 402it [01:16,  5.21it/s]"
     ]
    },
    {
     "name": "stdout",
     "output_type": "stream",
     "text": [
      "Iteration: 401, loss: 14.654855886474252\n"
     ]
    },
    {
     "name": "stderr",
     "output_type": "stream",
     "text": [
      "Iteration: 411it [01:17,  5.28it/s]\n"
     ]
    },
    {
     "name": "stdout",
     "output_type": "stream",
     "text": [
      "Validating...\n"
     ]
    },
    {
     "name": "stderr",
     "output_type": "stream",
     "text": [
      "Iteration: 100%|██████████| 137/137 [00:13<00:00,  9.84it/s]"
     ]
    },
    {
     "name": "stdout",
     "output_type": "stream",
     "text": [
      "Metric: 0.9649879282038547\n",
      "EPOCH 5/20\n"
     ]
    },
    {
     "name": "stderr",
     "output_type": "stream",
     "text": [
      "\n",
      "Iteration: 102it [00:19,  5.65it/s]"
     ]
    },
    {
     "name": "stdout",
     "output_type": "stream",
     "text": [
      "Iteration: 101, loss: 15.554780930280685\n"
     ]
    },
    {
     "name": "stderr",
     "output_type": "stream",
     "text": [
      "Iteration: 202it [00:37,  5.51it/s]"
     ]
    },
    {
     "name": "stdout",
     "output_type": "stream",
     "text": [
      "Iteration: 201, loss: 14.247226781211793\n"
     ]
    },
    {
     "name": "stderr",
     "output_type": "stream",
     "text": [
      "Iteration: 302it [00:57,  5.45it/s]"
     ]
    },
    {
     "name": "stdout",
     "output_type": "stream",
     "text": [
      "Iteration: 301, loss: 16.302644098177552\n"
     ]
    },
    {
     "name": "stderr",
     "output_type": "stream",
     "text": [
      "Iteration: 402it [01:15,  5.62it/s]"
     ]
    },
    {
     "name": "stdout",
     "output_type": "stream",
     "text": [
      "Iteration: 401, loss: 14.613489045761526\n"
     ]
    },
    {
     "name": "stderr",
     "output_type": "stream",
     "text": [
      "Iteration: 411it [01:16,  5.34it/s]\n"
     ]
    },
    {
     "name": "stdout",
     "output_type": "stream",
     "text": [
      "Validating...\n"
     ]
    },
    {
     "name": "stderr",
     "output_type": "stream",
     "text": [
      "Iteration: 100%|██████████| 137/137 [00:14<00:00,  9.31it/s]"
     ]
    },
    {
     "name": "stdout",
     "output_type": "stream",
     "text": [
      "Metric: 0.9718529862174577\n",
      "EPOCH 6/20\n"
     ]
    },
    {
     "name": "stderr",
     "output_type": "stream",
     "text": [
      "\n",
      "Iteration: 102it [00:19,  5.03it/s]"
     ]
    },
    {
     "name": "stdout",
     "output_type": "stream",
     "text": [
      "Iteration: 101, loss: 12.732893319334835\n"
     ]
    },
    {
     "name": "stderr",
     "output_type": "stream",
     "text": [
      "Iteration: 202it [00:38,  5.33it/s]"
     ]
    },
    {
     "name": "stdout",
     "output_type": "stream",
     "text": [
      "Iteration: 201, loss: 12.563790511339903\n"
     ]
    },
    {
     "name": "stderr",
     "output_type": "stream",
     "text": [
      "Iteration: 302it [00:57,  5.62it/s]"
     ]
    },
    {
     "name": "stdout",
     "output_type": "stream",
     "text": [
      "Iteration: 301, loss: 16.16258069407195\n"
     ]
    },
    {
     "name": "stderr",
     "output_type": "stream",
     "text": [
      "Iteration: 402it [01:15,  5.66it/s]"
     ]
    },
    {
     "name": "stdout",
     "output_type": "stream",
     "text": [
      "Iteration: 401, loss: 14.172902289777994\n"
     ]
    },
    {
     "name": "stderr",
     "output_type": "stream",
     "text": [
      "Iteration: 411it [01:17,  5.33it/s]\n"
     ]
    },
    {
     "name": "stdout",
     "output_type": "stream",
     "text": [
      "Validating...\n"
     ]
    },
    {
     "name": "stderr",
     "output_type": "stream",
     "text": [
      "Iteration: 100%|██████████| 137/137 [00:14<00:00,  9.36it/s]"
     ]
    },
    {
     "name": "stdout",
     "output_type": "stream",
     "text": [
      "Metric: 0.9706248361684808\n",
      "EPOCH 7/20\n"
     ]
    },
    {
     "name": "stderr",
     "output_type": "stream",
     "text": [
      "\n",
      "Iteration: 102it [00:19,  5.43it/s]"
     ]
    },
    {
     "name": "stdout",
     "output_type": "stream",
     "text": [
      "Iteration: 101, loss: 12.706027968786657\n"
     ]
    },
    {
     "name": "stderr",
     "output_type": "stream",
     "text": [
      "Iteration: 202it [00:38,  5.34it/s]"
     ]
    },
    {
     "name": "stdout",
     "output_type": "stream",
     "text": [
      "Iteration: 201, loss: 14.294077393133193\n"
     ]
    },
    {
     "name": "stderr",
     "output_type": "stream",
     "text": [
      "Iteration: 302it [00:57,  5.57it/s]"
     ]
    },
    {
     "name": "stdout",
     "output_type": "stream",
     "text": [
      "Iteration: 301, loss: 11.516287709586322\n"
     ]
    },
    {
     "name": "stderr",
     "output_type": "stream",
     "text": [
      "Iteration: 402it [01:15,  5.60it/s]"
     ]
    },
    {
     "name": "stdout",
     "output_type": "stream",
     "text": [
      "Iteration: 401, loss: 11.44957640953362\n"
     ]
    },
    {
     "name": "stderr",
     "output_type": "stream",
     "text": [
      "Iteration: 411it [01:16,  5.34it/s]\n"
     ]
    },
    {
     "name": "stdout",
     "output_type": "stream",
     "text": [
      "Validating...\n"
     ]
    },
    {
     "name": "stderr",
     "output_type": "stream",
     "text": [
      "Iteration: 100%|██████████| 137/137 [00:14<00:00,  9.37it/s]"
     ]
    },
    {
     "name": "stdout",
     "output_type": "stream",
     "text": [
      "Metric: 0.9711613757708704\n",
      "EPOCH 8/20\n"
     ]
    },
    {
     "name": "stderr",
     "output_type": "stream",
     "text": [
      "\n",
      "Iteration: 101it [00:18,  5.52it/s]"
     ]
    },
    {
     "name": "stdout",
     "output_type": "stream",
     "text": [
      "Iteration: 101, loss: 9.874937181826681\n"
     ]
    },
    {
     "name": "stderr",
     "output_type": "stream",
     "text": [
      "Iteration: 202it [00:38,  5.55it/s]"
     ]
    },
    {
     "name": "stdout",
     "output_type": "stream",
     "text": [
      "Iteration: 201, loss: 10.286842961329967\n"
     ]
    },
    {
     "name": "stderr",
     "output_type": "stream",
     "text": [
      "Iteration: 301it [00:56,  4.93it/s]"
     ]
    },
    {
     "name": "stdout",
     "output_type": "stream",
     "text": [
      "Iteration: 301, loss: 10.533276369329542\n"
     ]
    },
    {
     "name": "stderr",
     "output_type": "stream",
     "text": [
      "Iteration: 402it [01:15,  5.60it/s]"
     ]
    },
    {
     "name": "stdout",
     "output_type": "stream",
     "text": [
      "Iteration: 401, loss: 9.995092659955844\n"
     ]
    },
    {
     "name": "stderr",
     "output_type": "stream",
     "text": [
      "Iteration: 411it [01:16,  5.36it/s]\n"
     ]
    },
    {
     "name": "stdout",
     "output_type": "stream",
     "text": [
      "Validating...\n"
     ]
    },
    {
     "name": "stderr",
     "output_type": "stream",
     "text": [
      "Iteration: 100%|██████████| 137/137 [00:14<00:00,  9.25it/s]"
     ]
    },
    {
     "name": "stdout",
     "output_type": "stream",
     "text": [
      "Metric: 0.9722747402839285\n",
      "EPOCH 9/20\n"
     ]
    },
    {
     "name": "stderr",
     "output_type": "stream",
     "text": [
      "\n",
      "Iteration: 102it [00:18,  5.42it/s]"
     ]
    },
    {
     "name": "stdout",
     "output_type": "stream",
     "text": [
      "Iteration: 101, loss: 8.781750747933984\n"
     ]
    },
    {
     "name": "stderr",
     "output_type": "stream",
     "text": [
      "Iteration: 202it [00:37,  5.57it/s]"
     ]
    },
    {
     "name": "stdout",
     "output_type": "stream",
     "text": [
      "Iteration: 201, loss: 11.8998028091155\n"
     ]
    },
    {
     "name": "stderr",
     "output_type": "stream",
     "text": [
      "Iteration: 302it [00:56,  5.32it/s]"
     ]
    },
    {
     "name": "stdout",
     "output_type": "stream",
     "text": [
      "Iteration: 301, loss: 8.746652284171432\n"
     ]
    },
    {
     "name": "stderr",
     "output_type": "stream",
     "text": [
      "Iteration: 401it [01:15,  5.32it/s]"
     ]
    },
    {
     "name": "stdout",
     "output_type": "stream",
     "text": [
      "Iteration: 401, loss: 11.498778989072889\n"
     ]
    },
    {
     "name": "stderr",
     "output_type": "stream",
     "text": [
      "Iteration: 411it [01:17,  5.32it/s]\n"
     ]
    },
    {
     "name": "stdout",
     "output_type": "stream",
     "text": [
      "Validating...\n"
     ]
    },
    {
     "name": "stderr",
     "output_type": "stream",
     "text": [
      "Iteration: 100%|██████████| 137/137 [00:14<00:00,  9.43it/s]"
     ]
    },
    {
     "name": "stdout",
     "output_type": "stream",
     "text": [
      "Metric: 0.9735744933294703\n",
      "EPOCH 10/20\n"
     ]
    },
    {
     "name": "stderr",
     "output_type": "stream",
     "text": [
      "\n",
      "Iteration: 102it [00:19,  5.46it/s]"
     ]
    },
    {
     "name": "stdout",
     "output_type": "stream",
     "text": [
      "Iteration: 101, loss: 11.828647122019902\n"
     ]
    },
    {
     "name": "stderr",
     "output_type": "stream",
     "text": [
      "Iteration: 201it [00:38,  5.10it/s]"
     ]
    },
    {
     "name": "stdout",
     "output_type": "stream",
     "text": [
      "Iteration: 201, loss: 9.668562593869865\n"
     ]
    },
    {
     "name": "stderr",
     "output_type": "stream",
     "text": [
      "Iteration: 302it [00:57,  5.31it/s]"
     ]
    },
    {
     "name": "stdout",
     "output_type": "stream",
     "text": [
      "Iteration: 301, loss: 9.270778606180102\n"
     ]
    },
    {
     "name": "stderr",
     "output_type": "stream",
     "text": [
      "Iteration: 402it [01:16,  5.46it/s]"
     ]
    },
    {
     "name": "stdout",
     "output_type": "stream",
     "text": [
      "Iteration: 401, loss: 8.842283100471832\n"
     ]
    },
    {
     "name": "stderr",
     "output_type": "stream",
     "text": [
      "Iteration: 411it [01:18,  5.26it/s]\n"
     ]
    },
    {
     "name": "stdout",
     "output_type": "stream",
     "text": [
      "Validating...\n"
     ]
    },
    {
     "name": "stderr",
     "output_type": "stream",
     "text": [
      "Iteration: 100%|██████████| 137/137 [00:14<00:00,  9.73it/s]"
     ]
    },
    {
     "name": "stdout",
     "output_type": "stream",
     "text": [
      "Metric: 0.9738251727991392\n",
      "EPOCH 11/20\n"
     ]
    },
    {
     "name": "stderr",
     "output_type": "stream",
     "text": [
      "\n",
      "Iteration: 102it [00:19,  5.64it/s]"
     ]
    },
    {
     "name": "stdout",
     "output_type": "stream",
     "text": [
      "Iteration: 101, loss: 9.307966602267697\n"
     ]
    },
    {
     "name": "stderr",
     "output_type": "stream",
     "text": [
      "Iteration: 202it [00:38,  5.61it/s]"
     ]
    },
    {
     "name": "stdout",
     "output_type": "stream",
     "text": [
      "Iteration: 201, loss: 11.335664479061961\n"
     ]
    },
    {
     "name": "stderr",
     "output_type": "stream",
     "text": [
      "Iteration: 302it [00:56,  4.66it/s]"
     ]
    },
    {
     "name": "stdout",
     "output_type": "stream",
     "text": [
      "Iteration: 301, loss: 8.165602362249047\n"
     ]
    },
    {
     "name": "stderr",
     "output_type": "stream",
     "text": [
      "Iteration: 402it [01:15,  5.75it/s]"
     ]
    },
    {
     "name": "stdout",
     "output_type": "stream",
     "text": [
      "Iteration: 401, loss: 11.377979008015245\n"
     ]
    },
    {
     "name": "stderr",
     "output_type": "stream",
     "text": [
      "Iteration: 411it [01:17,  5.33it/s]\n"
     ]
    },
    {
     "name": "stdout",
     "output_type": "stream",
     "text": [
      "Validating...\n"
     ]
    },
    {
     "name": "stderr",
     "output_type": "stream",
     "text": [
      "Iteration: 100%|██████████| 137/137 [00:14<00:00,  9.38it/s]"
     ]
    },
    {
     "name": "stdout",
     "output_type": "stream",
     "text": [
      "Metric: 0.9733591324862382\n",
      "EPOCH 12/20\n"
     ]
    },
    {
     "name": "stderr",
     "output_type": "stream",
     "text": [
      "\n",
      "Iteration: 102it [00:19,  5.34it/s]"
     ]
    },
    {
     "name": "stdout",
     "output_type": "stream",
     "text": [
      "Iteration: 101, loss: 10.049628036096692\n"
     ]
    },
    {
     "name": "stderr",
     "output_type": "stream",
     "text": [
      "Iteration: 202it [00:38,  5.35it/s]"
     ]
    },
    {
     "name": "stdout",
     "output_type": "stream",
     "text": [
      "Iteration: 201, loss: 9.74394365446642\n"
     ]
    },
    {
     "name": "stderr",
     "output_type": "stream",
     "text": [
      "Iteration: 302it [00:57,  5.08it/s]"
     ]
    },
    {
     "name": "stdout",
     "output_type": "stream",
     "text": [
      "Iteration: 301, loss: 9.38081419467926\n"
     ]
    },
    {
     "name": "stderr",
     "output_type": "stream",
     "text": [
      "Iteration: 402it [01:17,  5.52it/s]"
     ]
    },
    {
     "name": "stdout",
     "output_type": "stream",
     "text": [
      "Iteration: 401, loss: 10.094280540477484\n"
     ]
    },
    {
     "name": "stderr",
     "output_type": "stream",
     "text": [
      "Iteration: 411it [01:18,  5.23it/s]\n"
     ]
    },
    {
     "name": "stdout",
     "output_type": "stream",
     "text": [
      "Validating...\n"
     ]
    },
    {
     "name": "stderr",
     "output_type": "stream",
     "text": [
      "Iteration: 100%|██████████| 137/137 [00:14<00:00,  9.44it/s]"
     ]
    },
    {
     "name": "stdout",
     "output_type": "stream",
     "text": [
      "Metric: 0.9736045693472952\n",
      "EPOCH 13/20\n"
     ]
    },
    {
     "name": "stderr",
     "output_type": "stream",
     "text": [
      "\n",
      "Iteration: 102it [00:19,  5.55it/s]"
     ]
    },
    {
     "name": "stdout",
     "output_type": "stream",
     "text": [
      "Iteration: 101, loss: 9.521274721249938\n"
     ]
    },
    {
     "name": "stderr",
     "output_type": "stream",
     "text": [
      "Iteration: 202it [00:37,  5.51it/s]"
     ]
    },
    {
     "name": "stdout",
     "output_type": "stream",
     "text": [
      "Iteration: 201, loss: 10.638539721257985\n"
     ]
    },
    {
     "name": "stderr",
     "output_type": "stream",
     "text": [
      "Iteration: 302it [00:57,  4.75it/s]"
     ]
    },
    {
     "name": "stdout",
     "output_type": "stream",
     "text": [
      "Iteration: 301, loss: 8.755607625702396\n"
     ]
    },
    {
     "name": "stderr",
     "output_type": "stream",
     "text": [
      "Iteration: 402it [01:16,  5.42it/s]"
     ]
    },
    {
     "name": "stdout",
     "output_type": "stream",
     "text": [
      "Iteration: 401, loss: 10.097442707512528\n"
     ]
    },
    {
     "name": "stderr",
     "output_type": "stream",
     "text": [
      "Iteration: 411it [01:17,  5.29it/s]\n"
     ]
    },
    {
     "name": "stdout",
     "output_type": "stream",
     "text": [
      "Validating...\n"
     ]
    },
    {
     "name": "stderr",
     "output_type": "stream",
     "text": [
      "Iteration: 100%|██████████| 137/137 [00:14<00:00,  9.52it/s]"
     ]
    },
    {
     "name": "stdout",
     "output_type": "stream",
     "text": [
      "Metric: 0.9741415228398385\n",
      "EPOCH 14/20\n"
     ]
    },
    {
     "name": "stderr",
     "output_type": "stream",
     "text": [
      "\n",
      "Iteration: 102it [00:19,  5.47it/s]"
     ]
    },
    {
     "name": "stdout",
     "output_type": "stream",
     "text": [
      "Iteration: 101, loss: 10.201030082302168\n"
     ]
    },
    {
     "name": "stderr",
     "output_type": "stream",
     "text": [
      "Iteration: 202it [00:38,  5.60it/s]"
     ]
    },
    {
     "name": "stdout",
     "output_type": "stream",
     "text": [
      "Iteration: 201, loss: 10.872127454262227\n"
     ]
    },
    {
     "name": "stderr",
     "output_type": "stream",
     "text": [
      "Iteration: 301it [00:56,  5.54it/s]"
     ]
    },
    {
     "name": "stdout",
     "output_type": "stream",
     "text": [
      "Iteration: 301, loss: 9.753091756720096\n"
     ]
    },
    {
     "name": "stderr",
     "output_type": "stream",
     "text": [
      "Iteration: 402it [01:15,  5.50it/s]"
     ]
    },
    {
     "name": "stdout",
     "output_type": "stream",
     "text": [
      "Iteration: 401, loss: 9.821470933966339\n"
     ]
    },
    {
     "name": "stderr",
     "output_type": "stream",
     "text": [
      "Iteration: 411it [01:17,  5.29it/s]\n"
     ]
    },
    {
     "name": "stdout",
     "output_type": "stream",
     "text": [
      "Validating...\n"
     ]
    },
    {
     "name": "stderr",
     "output_type": "stream",
     "text": [
      "Iteration: 100%|██████████| 137/137 [00:14<00:00,  9.70it/s]"
     ]
    },
    {
     "name": "stdout",
     "output_type": "stream",
     "text": [
      "Metric: 0.9747760164452356\n",
      "EPOCH 15/20\n"
     ]
    },
    {
     "name": "stderr",
     "output_type": "stream",
     "text": [
      "\n",
      "Iteration: 102it [00:19,  5.46it/s]"
     ]
    },
    {
     "name": "stdout",
     "output_type": "stream",
     "text": [
      "Iteration: 101, loss: 9.743829919490963\n"
     ]
    },
    {
     "name": "stderr",
     "output_type": "stream",
     "text": [
      "Iteration: 202it [00:38,  5.53it/s]"
     ]
    },
    {
     "name": "stdout",
     "output_type": "stream",
     "text": [
      "Iteration: 201, loss: 9.346534721553326\n"
     ]
    },
    {
     "name": "stderr",
     "output_type": "stream",
     "text": [
      "Iteration: 302it [00:56,  5.66it/s]"
     ]
    },
    {
     "name": "stdout",
     "output_type": "stream",
     "text": [
      "Iteration: 301, loss: 9.383107421454042\n"
     ]
    },
    {
     "name": "stderr",
     "output_type": "stream",
     "text": [
      "Iteration: 402it [01:15,  5.55it/s]"
     ]
    },
    {
     "name": "stdout",
     "output_type": "stream",
     "text": [
      "Iteration: 401, loss: 9.560085858218372\n"
     ]
    },
    {
     "name": "stderr",
     "output_type": "stream",
     "text": [
      "Iteration: 411it [01:16,  5.34it/s]\n"
     ]
    },
    {
     "name": "stdout",
     "output_type": "stream",
     "text": [
      "Validating...\n"
     ]
    },
    {
     "name": "stderr",
     "output_type": "stream",
     "text": [
      "Iteration: 100%|██████████| 137/137 [00:14<00:00,  9.15it/s]"
     ]
    },
    {
     "name": "stdout",
     "output_type": "stream",
     "text": [
      "Metric: 0.9748523101968737\n",
      "EPOCH 16/20\n"
     ]
    },
    {
     "name": "stderr",
     "output_type": "stream",
     "text": [
      "\n",
      "Iteration: 102it [00:19,  5.39it/s]"
     ]
    },
    {
     "name": "stdout",
     "output_type": "stream",
     "text": [
      "Iteration: 101, loss: 10.555991232395172\n"
     ]
    },
    {
     "name": "stderr",
     "output_type": "stream",
     "text": [
      "Iteration: 202it [00:38,  5.52it/s]"
     ]
    },
    {
     "name": "stdout",
     "output_type": "stream",
     "text": [
      "Iteration: 201, loss: 8.630051423795521\n"
     ]
    },
    {
     "name": "stderr",
     "output_type": "stream",
     "text": [
      "Iteration: 302it [00:58,  5.21it/s]"
     ]
    },
    {
     "name": "stdout",
     "output_type": "stream",
     "text": [
      "Iteration: 301, loss: 9.37831223278772\n"
     ]
    },
    {
     "name": "stderr",
     "output_type": "stream",
     "text": [
      "Iteration: 402it [01:17,  5.12it/s]"
     ]
    },
    {
     "name": "stdout",
     "output_type": "stream",
     "text": [
      "Iteration: 401, loss: 8.76067538477946\n"
     ]
    },
    {
     "name": "stderr",
     "output_type": "stream",
     "text": [
      "Iteration: 411it [01:19,  5.19it/s]\n"
     ]
    },
    {
     "name": "stdout",
     "output_type": "stream",
     "text": [
      "Validating...\n"
     ]
    },
    {
     "name": "stderr",
     "output_type": "stream",
     "text": [
      "Iteration: 100%|██████████| 137/137 [00:15<00:00,  8.68it/s]"
     ]
    },
    {
     "name": "stdout",
     "output_type": "stream",
     "text": [
      "Metric: 0.975192941793248\n",
      "EPOCH 17/20\n"
     ]
    },
    {
     "name": "stderr",
     "output_type": "stream",
     "text": [
      "\n",
      "Iteration: 101it [00:19,  5.38it/s]"
     ]
    },
    {
     "name": "stdout",
     "output_type": "stream",
     "text": [
      "Iteration: 101, loss: 11.023199365939945\n"
     ]
    },
    {
     "name": "stderr",
     "output_type": "stream",
     "text": [
      "Iteration: 201it [00:39,  4.93it/s]"
     ]
    },
    {
     "name": "stdout",
     "output_type": "stream",
     "text": [
      "Iteration: 201, loss: 9.611809344496578\n"
     ]
    },
    {
     "name": "stderr",
     "output_type": "stream",
     "text": [
      "Iteration: 301it [00:58,  4.55it/s]"
     ]
    },
    {
     "name": "stdout",
     "output_type": "stream",
     "text": [
      "Iteration: 301, loss: 8.89217774476856\n"
     ]
    },
    {
     "name": "stderr",
     "output_type": "stream",
     "text": [
      "Iteration: 402it [01:17,  5.26it/s]"
     ]
    },
    {
     "name": "stdout",
     "output_type": "stream",
     "text": [
      "Iteration: 401, loss: 10.238089291378856\n"
     ]
    },
    {
     "name": "stderr",
     "output_type": "stream",
     "text": [
      "Iteration: 411it [01:19,  5.20it/s]\n"
     ]
    },
    {
     "name": "stdout",
     "output_type": "stream",
     "text": [
      "Validating...\n"
     ]
    },
    {
     "name": "stderr",
     "output_type": "stream",
     "text": [
      "Iteration: 100%|██████████| 137/137 [00:15<00:00,  9.03it/s]\n"
     ]
    },
    {
     "name": "stdout",
     "output_type": "stream",
     "text": [
      "Metric: 0.9752408150876758\n",
      "EPOCH 18/20\n"
     ]
    },
    {
     "name": "stderr",
     "output_type": "stream",
     "text": [
      "Iteration: 102it [00:19,  5.50it/s]"
     ]
    },
    {
     "name": "stdout",
     "output_type": "stream",
     "text": [
      "Iteration: 101, loss: 9.521313273813576\n"
     ]
    },
    {
     "name": "stderr",
     "output_type": "stream",
     "text": [
      "Iteration: 202it [00:38,  5.55it/s]"
     ]
    },
    {
     "name": "stdout",
     "output_type": "stream",
     "text": [
      "Iteration: 201, loss: 10.84541339892894\n"
     ]
    },
    {
     "name": "stderr",
     "output_type": "stream",
     "text": [
      "Iteration: 302it [00:56,  5.38it/s]"
     ]
    },
    {
     "name": "stdout",
     "output_type": "stream",
     "text": [
      "Iteration: 301, loss: 9.523842232301831\n"
     ]
    },
    {
     "name": "stderr",
     "output_type": "stream",
     "text": [
      "Iteration: 402it [01:15,  5.59it/s]"
     ]
    },
    {
     "name": "stdout",
     "output_type": "stream",
     "text": [
      "Iteration: 401, loss: 8.460969551466405\n"
     ]
    },
    {
     "name": "stderr",
     "output_type": "stream",
     "text": [
      "Iteration: 411it [01:17,  5.32it/s]\n"
     ]
    },
    {
     "name": "stdout",
     "output_type": "stream",
     "text": [
      "Validating...\n"
     ]
    },
    {
     "name": "stderr",
     "output_type": "stream",
     "text": [
      "Iteration: 100%|██████████| 137/137 [00:14<00:00,  9.14it/s]"
     ]
    },
    {
     "name": "stdout",
     "output_type": "stream",
     "text": [
      "Metric: 0.9753013810134791\n",
      "EPOCH 19/20\n"
     ]
    },
    {
     "name": "stderr",
     "output_type": "stream",
     "text": [
      "\n",
      "Iteration: 102it [00:19,  5.47it/s]"
     ]
    },
    {
     "name": "stdout",
     "output_type": "stream",
     "text": [
      "Iteration: 101, loss: 10.9336794950068\n"
     ]
    },
    {
     "name": "stderr",
     "output_type": "stream",
     "text": [
      "Iteration: 202it [00:38,  5.69it/s]"
     ]
    },
    {
     "name": "stdout",
     "output_type": "stream",
     "text": [
      "Iteration: 201, loss: 10.211481703212485\n"
     ]
    },
    {
     "name": "stderr",
     "output_type": "stream",
     "text": [
      "Iteration: 301it [00:56,  4.81it/s]"
     ]
    },
    {
     "name": "stdout",
     "output_type": "stream",
     "text": [
      "Iteration: 301, loss: 8.989747418090701\n"
     ]
    },
    {
     "name": "stderr",
     "output_type": "stream",
     "text": [
      "Iteration: 402it [01:15,  5.45it/s]"
     ]
    },
    {
     "name": "stdout",
     "output_type": "stream",
     "text": [
      "Iteration: 401, loss: 8.635831702966243\n"
     ]
    },
    {
     "name": "stderr",
     "output_type": "stream",
     "text": [
      "Iteration: 411it [01:17,  5.31it/s]\n"
     ]
    },
    {
     "name": "stdout",
     "output_type": "stream",
     "text": [
      "Validating...\n"
     ]
    },
    {
     "name": "stderr",
     "output_type": "stream",
     "text": [
      "Iteration: 100%|██████████| 137/137 [00:14<00:00,  9.35it/s]"
     ]
    },
    {
     "name": "stdout",
     "output_type": "stream",
     "text": [
      "Metric: 0.9754096822703253\n",
      "EPOCH 20/20\n"
     ]
    },
    {
     "name": "stderr",
     "output_type": "stream",
     "text": [
      "\n",
      "Iteration: 102it [00:18,  5.67it/s]"
     ]
    },
    {
     "name": "stdout",
     "output_type": "stream",
     "text": [
      "Iteration: 101, loss: 10.075656578876078\n"
     ]
    },
    {
     "name": "stderr",
     "output_type": "stream",
     "text": [
      "Iteration: 202it [00:38,  5.48it/s]"
     ]
    },
    {
     "name": "stdout",
     "output_type": "stream",
     "text": [
      "Iteration: 201, loss: 8.418029504828155\n"
     ]
    },
    {
     "name": "stderr",
     "output_type": "stream",
     "text": [
      "Iteration: 302it [00:56,  5.57it/s]"
     ]
    },
    {
     "name": "stdout",
     "output_type": "stream",
     "text": [
      "Iteration: 301, loss: 10.511441809590906\n"
     ]
    },
    {
     "name": "stderr",
     "output_type": "stream",
     "text": [
      "Iteration: 402it [01:15,  5.57it/s]"
     ]
    },
    {
     "name": "stdout",
     "output_type": "stream",
     "text": [
      "Iteration: 401, loss: 9.7698734276928\n"
     ]
    },
    {
     "name": "stderr",
     "output_type": "stream",
     "text": [
      "Iteration: 411it [01:17,  5.33it/s]\n"
     ]
    },
    {
     "name": "stdout",
     "output_type": "stream",
     "text": [
      "Validating...\n"
     ]
    },
    {
     "name": "stderr",
     "output_type": "stream",
     "text": [
      "Iteration: 100%|██████████| 137/137 [00:13<00:00,  9.84it/s]\n"
     ]
    },
    {
     "name": "stdout",
     "output_type": "stream",
     "text": [
      "Metric: 0.9751710056151098\n",
      "Train mean losses: [0.7469330634151352, 0.37061725220648084, 0.2281942334073684, 0.16466872486424092, 0.1501223014717482, 0.13776692695385456, 0.1251027280081816, 0.10017064853272245, 0.1009905295332649, 0.09922880894269957, 0.10012479620722832, 0.09819199517822469, 0.09755768843273883, 0.10015648306197875, 0.09605055158944244, 0.09362287112212017, 0.09857183828079788, 0.09523770731925928, 0.09575256879085679, 0.09599896344988451]\n",
      "Val mean losses: [0.5528655371010086, 0.2697358458799167, 0.25457626429597174, 0.24780506132184155, 0.20108660655843952, 0.2089486344765029, 0.20274870288660274, 0.19852482437081362, 0.19243631307987402, 0.19354629186899774, 0.1936624923884107, 0.1930697479550421, 0.19169484256311273, 0.18709418507306463, 0.18722143466754335, 0.1861300249618009, 0.18547256395601444, 0.1850488163109352, 0.18427236847253176, 0.18594027925146758]\n",
      "Scores: [0.9109374611977981, 0.9561137094215194, 0.9616133438185506, 0.9649879282038547, 0.9718529862174577, 0.9706248361684808, 0.9711613757708704, 0.9722747402839285, 0.9735744933294703, 0.9738251727991392, 0.9733591324862382, 0.9736045693472952, 0.9741415228398385, 0.9747760164452356, 0.9748523101968737, 0.975192941793248, 0.9752408150876758, 0.9753013810134791, 0.9754096822703253, 0.9751710056151098]\n",
      "Train loss: [0.7469330634151352, 0.37061725220648084, 0.2281942334073684, 0.16466872486424092, 0.1501223014717482, 0.13776692695385456, 0.1251027280081816, 0.10017064853272245, 0.1009905295332649, 0.09922880894269957, 0.10012479620722832, 0.09819199517822469, 0.09755768843273883, 0.10015648306197875, 0.09605055158944244, 0.09362287112212017, 0.09857183828079788, 0.09523770731925928, 0.09575256879085679, 0.09599896344988451]\n",
      "Validation loss: [0.5528655371010086, 0.2697358458799167, 0.25457626429597174, 0.24780506132184155, 0.20108660655843952, 0.2089486344765029, 0.20274870288660274, 0.19852482437081362, 0.19243631307987402, 0.19354629186899774, 0.1936624923884107, 0.1930697479550421, 0.19169484256311273, 0.18709418507306463, 0.18722143466754335, 0.1861300249618009, 0.18547256395601444, 0.1850488163109352, 0.18427236847253176, 0.18594027925146758]\n",
      "Best validation loss: 0.18427236847253176\n"
     ]
    },
    {
     "name": "stderr",
     "output_type": "stream",
     "text": [
      "100%|██████████| 125/125 [00:23<00:00,  5.37it/s]\n"
     ]
    }
   ],
   "source": [
    "path = \"/kaggle/input/eurecom-aml-2023-optional-challenge-1/\"\n",
    "\n",
    "num_channels = par['num_channels']\n",
    "classes = par['classes']\n",
    "\n",
    "device = torch.device('cuda' if torch.cuda.is_available() else 'cpu')\n",
    "\n",
    "# Read the dataset and separate data from labels\n",
    "df = pd.read_csv(\"/kaggle/input/eurecom-aml-2023-optional-challenge-1/train.csv\")\n",
    "\n",
    "labels = df['has_cactus']\n",
    "df = df.drop(columns=['has_cactus'])\n",
    "\n",
    "batch_size = par['batch_size']\n",
    "\n",
    "# These are the possible networks to use for the experiments\n",
    "nets = {\n",
    "'AlexNet' : AlexNet,\n",
    "'BAlexNet' : BAlexNet,\n",
    "'DNet' : DNet,\n",
    "'BDNet' : BDNet,\n",
    "'ResNet' : resnet50,\n",
    "'ConvNext' : ConvNeXt,\n",
    "'BConvNext' : BConvNeXt\n",
    "}\n",
    "\n",
    "# The transforms that would perform data augmentation on the training data\n",
    "transform = transforms.Compose(\n",
    "[\n",
    " transforms.ToTensor(),\n",
    " transforms.RandomHorizontalFlip(),\n",
    " transforms.RandomVerticalFlip(),\n",
    " transforms.RandomRotation(30),\n",
    " transforms.Normalize((0.504, 0.452, 0.468), (0.151, 0.140, 0.153))\n",
    "]\n",
    ")\n",
    "\n",
    "# The transforms to be instead applied to test/val data\n",
    "valtransform = transforms.Compose(\n",
    "    [transforms.ToTensor(),\n",
    "     transforms.Normalize((0.504, 0.452, 0.468), (0.151, 0.140, 0.153))])\n",
    "\n",
    "print(f\"STARTING TRAINING-VAL WITH {par['n_epochs']} EPOCHS, {par['batch_size']} BATCH SIZE\")\n",
    "print(f\"SELECTED MODEL {par['model']}\")\n",
    "print(f\"RUNNING ON: {device}\")\n",
    "\n",
    "# The ResNet model only needs fine-tuning\n",
    "if par['model'] == 'ResNet':\n",
    "    net = nets[par['model']](weights=ResNet50_Weights.IMAGENET1K_V2)\n",
    "    \n",
    "    # Freeze the parameters of the resnet\n",
    "    for param in net.parameters():\n",
    "        param.requires_grad = False\n",
    "    \n",
    "    net.fc = torch.nn.Linear(net.fc.in_features, 2)\n",
    "    net.to(device)\n",
    "    \n",
    "elif par['model'] == 'ConvNext' or par['model'] == 'BConvNext':\n",
    "    net = nets[par['model']](classes).to(device)    \n",
    "else:\n",
    "    net = nets[par['model']](num_channels, classes).to(device)\n",
    "\n",
    "optimizer = torch.optim.SGD(net.parameters(), lr=0.001, momentum=0.9)\n",
    "exp_lr_scheduler = lr_scheduler.StepLR(optimizer, step_size=7, gamma=0.1)\n",
    "\n",
    "\n",
    "# VALIDATION\n",
    "\n",
    "X_train, X_val, y_train, y_val= train_test_split(df, labels, shuffle=True)\n",
    "\n",
    "# The ResNet has its own transformation on the data to be applied\n",
    "if par['model'] == \"ResNet\":\n",
    "    trainset = CactusDataset(dataframe=X_train, labels=y_train,\n",
    "                    img_dir=path + \"train/train\",\n",
    "                    transform=ResNet50_Weights.IMAGENET1K_V1.transforms())\n",
    "    valset = CactusDataset(dataframe=X_val, labels=y_val,\n",
    "                        img_dir=path + \"train/train\",\n",
    "                        transform=ResNet50_Weights.IMAGENET1K_V1.transforms())\n",
    "else:\n",
    "    trainset = CactusDataset(dataframe=X_train, labels=y_train,\n",
    "                    img_dir=path + \"train/train\",\n",
    "                    transform=transform)\n",
    "    valset = CactusDataset(dataframe=X_val, labels=y_val,\n",
    "                        img_dir=path + \"train/train\",\n",
    "                        transform=valtransform)\n",
    "\n",
    "trainloader = DataLoader(trainset, batch_size=batch_size,\n",
    "                                        shuffle=True, num_workers=2)\n",
    "\n",
    "\n",
    "valloader = DataLoader(valset, batch_size=batch_size,\n",
    "                                        shuffle=False, num_workers=2)\n",
    "\n",
    "if par['model'].startswith(\"B\"):\n",
    "    criterion = ELBO(len(trainset))\n",
    "else:\n",
    "    criterion = nn.CrossEntropyLoss()  \n",
    "\n",
    "train_parameters = {\n",
    "    'net' : net,\n",
    "    'criterion' : criterion,\n",
    "    'optimizer' : optimizer,\n",
    "    'n_epochs' : par['n_epochs'],\n",
    "    'train_loader' : trainloader,\n",
    "    'val_loader' : valloader,\n",
    "    'device' : device,\n",
    "    'lr_scheduler' : exp_lr_scheduler\n",
    "}\n",
    "\n",
    "\n",
    "net, scores, train_losses, val_losses, best_loss, best_model = train_val(**train_parameters)\n",
    "print(f\"Scores: {scores}\")\n",
    "print(f\"Train loss: {train_losses}\")\n",
    "print(f\"Validation loss: {val_losses}\")\n",
    "print(f\"Best validation loss: {best_loss}\")\n",
    "\n",
    "\n",
    "# TEST\n",
    "\n",
    "df_test = pd.read_csv(\"/kaggle/input/eurecom-aml-2023-optional-challenge-1/sample_submission.csv\")\n",
    "\n",
    "if par['model'] == \"ResNet\":\n",
    "    testset = CactusDataset(dataframe=df_test,\n",
    "                        img_dir=path+\"test/test\",\n",
    "                        transform=ResNet50_Weights.IMAGENET1K_V1.transforms())\n",
    "else:\n",
    "    testset = CactusDataset(dataframe=df_test,\n",
    "                        img_dir=path+\"test/test\",\n",
    "                        transform=valtransform)\n",
    "testloader = DataLoader(testset, batch_size=batch_size, num_workers=2)\n",
    "    \n",
    "# Load the best model found in the validation procedure\n",
    "net.load_state_dict(best_model)\n",
    "\n",
    "_, y_pred = test(net, testloader, device)\n",
    "\n",
    "df_test['has_cactus'] = y_pred\n",
    "\n",
    "df_test.to_csv('/kaggle/working/submission.csv', index=False)"
   ]
  }
 ],
 "metadata": {
  "kernelspec": {
   "display_name": "Python 3",
   "language": "python",
   "name": "python3"
  },
  "language_info": {
   "codemirror_mode": {
    "name": "ipython",
    "version": 3
   },
   "file_extension": ".py",
   "mimetype": "text/x-python",
   "name": "python",
   "nbconvert_exporter": "python",
   "pygments_lexer": "ipython3",
   "version": "3.10.10"
  },
  "papermill": {
   "default_parameters": {},
   "duration": 1936.013096,
   "end_time": "2023-05-17T12:07:34.443387",
   "environment_variables": {},
   "exception": null,
   "input_path": "__notebook__.ipynb",
   "output_path": "__notebook__.ipynb",
   "parameters": {},
   "start_time": "2023-05-17T11:35:18.430291",
   "version": "2.4.0"
  }
 },
 "nbformat": 4,
 "nbformat_minor": 5
}
